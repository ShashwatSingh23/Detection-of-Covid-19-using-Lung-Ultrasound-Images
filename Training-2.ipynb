{
 "cells": [
  {
   "cell_type": "code",
   "execution_count": 1,
   "id": "dda0f894",
   "metadata": {
    "execution": {
     "iopub.execute_input": "2022-08-28T13:01:52.981263Z",
     "iopub.status.busy": "2022-08-28T13:01:52.980417Z",
     "iopub.status.idle": "2022-08-28T13:02:04.851044Z",
     "shell.execute_reply": "2022-08-28T13:02:04.849921Z"
    },
    "papermill": {
     "duration": 11.880149,
     "end_time": "2022-08-28T13:02:04.853802",
     "exception": false,
     "start_time": "2022-08-28T13:01:52.973653",
     "status": "completed"
    },
    "tags": []
   },
   "outputs": [
    {
     "name": "stdout",
     "output_type": "stream",
     "text": [
      "Collecting timm\r\n",
      "  Downloading timm-0.6.7-py3-none-any.whl (509 kB)\r\n",
      "\u001b[2K     \u001b[90m━━━━━━━━━━━━━━━━━━━━━━━━━━━━━━━━━━━━━━━\u001b[0m \u001b[32m510.0/510.0 kB\u001b[0m \u001b[31m1.5 MB/s\u001b[0m eta \u001b[36m0:00:00\u001b[0m\r\n",
      "\u001b[?25hRequirement already satisfied: torchvision in /opt/conda/lib/python3.7/site-packages (from timm) (0.12.0)\r\n",
      "Requirement already satisfied: torch>=1.4 in /opt/conda/lib/python3.7/site-packages (from timm) (1.11.0)\r\n",
      "Requirement already satisfied: typing-extensions in /opt/conda/lib/python3.7/site-packages (from torch>=1.4->timm) (4.3.0)\r\n",
      "Requirement already satisfied: requests in /opt/conda/lib/python3.7/site-packages (from torchvision->timm) (2.28.1)\r\n",
      "Requirement already satisfied: numpy in /opt/conda/lib/python3.7/site-packages (from torchvision->timm) (1.21.6)\r\n",
      "Requirement already satisfied: pillow!=8.3.*,>=5.3.0 in /opt/conda/lib/python3.7/site-packages (from torchvision->timm) (9.1.1)\r\n",
      "Requirement already satisfied: charset-normalizer<3,>=2 in /opt/conda/lib/python3.7/site-packages (from requests->torchvision->timm) (2.1.0)\r\n",
      "Requirement already satisfied: urllib3<1.27,>=1.21.1 in /opt/conda/lib/python3.7/site-packages (from requests->torchvision->timm) (1.26.12)\r\n",
      "Requirement already satisfied: certifi>=2017.4.17 in /opt/conda/lib/python3.7/site-packages (from requests->torchvision->timm) (2022.6.15)\r\n",
      "Requirement already satisfied: idna<4,>=2.5 in /opt/conda/lib/python3.7/site-packages (from requests->torchvision->timm) (3.3)\r\n",
      "Installing collected packages: timm\r\n",
      "Successfully installed timm-0.6.7\r\n",
      "\u001b[33mWARNING: Running pip as the 'root' user can result in broken permissions and conflicting behaviour with the system package manager. It is recommended to use a virtual environment instead: https://pip.pypa.io/warnings/venv\u001b[0m\u001b[33m\r\n",
      "\u001b[0m"
     ]
    }
   ],
   "source": [
    "!pip install timm"
   ]
  },
  {
   "cell_type": "code",
   "execution_count": 2,
   "id": "bdc5194d",
   "metadata": {
    "_cell_guid": "b1076dfc-b9ad-4769-8c92-a6c4dae69d19",
    "_uuid": "8f2839f25d086af736a60e9eeb907d3b93b6e0e5",
    "execution": {
     "iopub.execute_input": "2022-08-28T13:02:04.865352Z",
     "iopub.status.busy": "2022-08-28T13:02:04.864964Z",
     "iopub.status.idle": "2022-08-28T13:02:09.695711Z",
     "shell.execute_reply": "2022-08-28T13:02:09.694506Z"
    },
    "papermill": {
     "duration": 4.839444,
     "end_time": "2022-08-28T13:02:09.698373",
     "exception": false,
     "start_time": "2022-08-28T13:02:04.858929",
     "status": "completed"
    },
    "tags": []
   },
   "outputs": [],
   "source": [
    "# This Python 3 environment comes with many helpful analytics libraries installed\n",
    "# It is defined by the kaggle/python Docker image: https://github.com/kaggle/docker-python\n",
    "# For example, here's several helpful packages to load\n",
    "\n",
    "import numpy as np # linear algebra\n",
    "import pandas as pd # data processing, CSV file I/O (e.g. pd.read_csv)\n",
    "import cv2\n",
    "import torch\n",
    "from torch.utils.data import Dataset,DataLoader\n",
    "import torch.nn as nn\n",
    "import torch.nn.functional as F\n",
    "import os\n",
    "import matplotlib.pyplot as plt\n",
    "from sklearn.model_selection import StratifiedGroupKFold\n",
    "import timm\n",
    "from tqdm import tqdm\n",
    "import albumentations as A\n",
    "from collections import defaultdict\n",
    "from albumentations.pytorch import ToTensorV2\n",
    "from sklearn.metrics import roc_auc_score,f1_score\n",
    "from torch.cuda import amp\n",
    "import torch.optim as optim\n",
    "from torch.optim import lr_scheduler\n",
    "import time\n",
    "import gc\n",
    "import copy"
   ]
  },
  {
   "cell_type": "code",
   "execution_count": 3,
   "id": "0bf4fcd0",
   "metadata": {
    "execution": {
     "iopub.execute_input": "2022-08-28T13:02:09.709890Z",
     "iopub.status.busy": "2022-08-28T13:02:09.709419Z",
     "iopub.status.idle": "2022-08-28T13:02:09.775548Z",
     "shell.execute_reply": "2022-08-28T13:02:09.774593Z"
    },
    "papermill": {
     "duration": 0.074356,
     "end_time": "2022-08-28T13:02:09.777717",
     "exception": false,
     "start_time": "2022-08-28T13:02:09.703361",
     "status": "completed"
    },
    "tags": []
   },
   "outputs": [],
   "source": [
    "class CFG:\n",
    "    seed          = 42\n",
    "    debug         = False # set debug=False for Full Training\n",
    "    model         =  'vit_tiny_patch16_224'\n",
    "    batch_size    = 16\n",
    "    img_size      = [224, 224]\n",
    "    epochs        = 5\n",
    "    lr            = 1e-2\n",
    "    scheduler     = 'CosineAnnealingLR'\n",
    "    min_lr        = 1e-6\n",
    "    T_max         = int(30000/batch_size*epochs)+50\n",
    "    T_0           = 25\n",
    "    warmup_epochs = 0\n",
    "    wd            = 1e-6\n",
    "    n_accumulate  = 1\n",
    "    n_fold        = 5\n",
    "    folds         = [0]\n",
    "    device        = torch.device(\"cuda:0\" if torch.cuda.is_available() else \"cpu\")"
   ]
  },
  {
   "cell_type": "code",
   "execution_count": 4,
   "id": "56857539",
   "metadata": {
    "execution": {
     "iopub.execute_input": "2022-08-28T13:02:09.788932Z",
     "iopub.status.busy": "2022-08-28T13:02:09.788353Z",
     "iopub.status.idle": "2022-08-28T13:02:09.840323Z",
     "shell.execute_reply": "2022-08-28T13:02:09.839404Z"
    },
    "papermill": {
     "duration": 0.059905,
     "end_time": "2022-08-28T13:02:09.842504",
     "exception": false,
     "start_time": "2022-08-28T13:02:09.782599",
     "status": "completed"
    },
    "tags": []
   },
   "outputs": [],
   "source": [
    "df = pd.read_csv('../input/ultra-sound-covid-detection/covid_data.csv')\n",
    "\n",
    "def correct_path(idx):\n",
    "    path = '../input/ultra-sound-covid-detection/data/'+idx[6::]\n",
    "    return path\n",
    "\n",
    "df['path'] = df['path'].apply(correct_path)"
   ]
  },
  {
   "cell_type": "code",
   "execution_count": 5,
   "id": "6d9467a4",
   "metadata": {
    "execution": {
     "iopub.execute_input": "2022-08-28T13:02:09.853955Z",
     "iopub.status.busy": "2022-08-28T13:02:09.853659Z",
     "iopub.status.idle": "2022-08-28T13:02:09.946990Z",
     "shell.execute_reply": "2022-08-28T13:02:09.946066Z"
    },
    "papermill": {
     "duration": 0.101351,
     "end_time": "2022-08-28T13:02:09.949316",
     "exception": false,
     "start_time": "2022-08-28T13:02:09.847965",
     "status": "completed"
    },
    "tags": []
   },
   "outputs": [],
   "source": [
    "df['fold'] = -1\n",
    "skf = StratifiedGroupKFold(n_splits=5,shuffle=True,random_state=42)\n",
    "for fold,(train_idx,test_idx) in enumerate(skf.split(df['path'],df['label'],groups=df['video_id'])):\n",
    "    df.loc[test_idx,'fold'] = fold"
   ]
  },
  {
   "cell_type": "code",
   "execution_count": 6,
   "id": "377e7706",
   "metadata": {
    "execution": {
     "iopub.execute_input": "2022-08-28T13:02:09.961509Z",
     "iopub.status.busy": "2022-08-28T13:02:09.960938Z",
     "iopub.status.idle": "2022-08-28T13:02:09.982936Z",
     "shell.execute_reply": "2022-08-28T13:02:09.982075Z"
    },
    "papermill": {
     "duration": 0.030552,
     "end_time": "2022-08-28T13:02:09.985045",
     "exception": false,
     "start_time": "2022-08-28T13:02:09.954493",
     "status": "completed"
    },
    "tags": []
   },
   "outputs": [
    {
     "data": {
      "text/html": [
       "<div>\n",
       "<style scoped>\n",
       "    .dataframe tbody tr th:only-of-type {\n",
       "        vertical-align: middle;\n",
       "    }\n",
       "\n",
       "    .dataframe tbody tr th {\n",
       "        vertical-align: top;\n",
       "    }\n",
       "\n",
       "    .dataframe thead th {\n",
       "        text-align: right;\n",
       "    }\n",
       "</style>\n",
       "<table border=\"1\" class=\"dataframe\">\n",
       "  <thead>\n",
       "    <tr style=\"text-align: right;\">\n",
       "      <th></th>\n",
       "      <th>path</th>\n",
       "      <th>label</th>\n",
       "      <th>video_id</th>\n",
       "      <th>fold</th>\n",
       "    </tr>\n",
       "  </thead>\n",
       "  <tbody>\n",
       "    <tr>\n",
       "      <th>0</th>\n",
       "      <td>../input/ultra-sound-covid-detection/data//Vid...</td>\n",
       "      <td>1</td>\n",
       "      <td>Video_0</td>\n",
       "      <td>1</td>\n",
       "    </tr>\n",
       "    <tr>\n",
       "      <th>1</th>\n",
       "      <td>../input/ultra-sound-covid-detection/data//Vid...</td>\n",
       "      <td>1</td>\n",
       "      <td>Video_0</td>\n",
       "      <td>1</td>\n",
       "    </tr>\n",
       "    <tr>\n",
       "      <th>2</th>\n",
       "      <td>../input/ultra-sound-covid-detection/data//Vid...</td>\n",
       "      <td>1</td>\n",
       "      <td>Video_0</td>\n",
       "      <td>1</td>\n",
       "    </tr>\n",
       "    <tr>\n",
       "      <th>3</th>\n",
       "      <td>../input/ultra-sound-covid-detection/data//Vid...</td>\n",
       "      <td>1</td>\n",
       "      <td>Video_0</td>\n",
       "      <td>1</td>\n",
       "    </tr>\n",
       "    <tr>\n",
       "      <th>4</th>\n",
       "      <td>../input/ultra-sound-covid-detection/data//Vid...</td>\n",
       "      <td>1</td>\n",
       "      <td>Video_0</td>\n",
       "      <td>1</td>\n",
       "    </tr>\n",
       "    <tr>\n",
       "      <th>...</th>\n",
       "      <td>...</td>\n",
       "      <td>...</td>\n",
       "      <td>...</td>\n",
       "      <td>...</td>\n",
       "    </tr>\n",
       "    <tr>\n",
       "      <th>19969</th>\n",
       "      <td>../input/ultra-sound-covid-detection/data//Vid...</td>\n",
       "      <td>1</td>\n",
       "      <td>Video_131</td>\n",
       "      <td>1</td>\n",
       "    </tr>\n",
       "    <tr>\n",
       "      <th>19970</th>\n",
       "      <td>../input/ultra-sound-covid-detection/data//Vid...</td>\n",
       "      <td>1</td>\n",
       "      <td>Video_131</td>\n",
       "      <td>1</td>\n",
       "    </tr>\n",
       "    <tr>\n",
       "      <th>19971</th>\n",
       "      <td>../input/ultra-sound-covid-detection/data//Vid...</td>\n",
       "      <td>1</td>\n",
       "      <td>Video_131</td>\n",
       "      <td>1</td>\n",
       "    </tr>\n",
       "    <tr>\n",
       "      <th>19972</th>\n",
       "      <td>../input/ultra-sound-covid-detection/data//Vid...</td>\n",
       "      <td>1</td>\n",
       "      <td>Video_131</td>\n",
       "      <td>1</td>\n",
       "    </tr>\n",
       "    <tr>\n",
       "      <th>19973</th>\n",
       "      <td>../input/ultra-sound-covid-detection/data//Vid...</td>\n",
       "      <td>1</td>\n",
       "      <td>Video_131</td>\n",
       "      <td>1</td>\n",
       "    </tr>\n",
       "  </tbody>\n",
       "</table>\n",
       "<p>19974 rows × 4 columns</p>\n",
       "</div>"
      ],
      "text/plain": [
       "                                                    path  label   video_id  \\\n",
       "0      ../input/ultra-sound-covid-detection/data//Vid...      1    Video_0   \n",
       "1      ../input/ultra-sound-covid-detection/data//Vid...      1    Video_0   \n",
       "2      ../input/ultra-sound-covid-detection/data//Vid...      1    Video_0   \n",
       "3      ../input/ultra-sound-covid-detection/data//Vid...      1    Video_0   \n",
       "4      ../input/ultra-sound-covid-detection/data//Vid...      1    Video_0   \n",
       "...                                                  ...    ...        ...   \n",
       "19969  ../input/ultra-sound-covid-detection/data//Vid...      1  Video_131   \n",
       "19970  ../input/ultra-sound-covid-detection/data//Vid...      1  Video_131   \n",
       "19971  ../input/ultra-sound-covid-detection/data//Vid...      1  Video_131   \n",
       "19972  ../input/ultra-sound-covid-detection/data//Vid...      1  Video_131   \n",
       "19973  ../input/ultra-sound-covid-detection/data//Vid...      1  Video_131   \n",
       "\n",
       "       fold  \n",
       "0         1  \n",
       "1         1  \n",
       "2         1  \n",
       "3         1  \n",
       "4         1  \n",
       "...     ...  \n",
       "19969     1  \n",
       "19970     1  \n",
       "19971     1  \n",
       "19972     1  \n",
       "19973     1  \n",
       "\n",
       "[19974 rows x 4 columns]"
      ]
     },
     "execution_count": 6,
     "metadata": {},
     "output_type": "execute_result"
    }
   ],
   "source": [
    "df"
   ]
  },
  {
   "cell_type": "code",
   "execution_count": 7,
   "id": "963414a1",
   "metadata": {
    "execution": {
     "iopub.execute_input": "2022-08-28T13:02:09.998290Z",
     "iopub.status.busy": "2022-08-28T13:02:09.996390Z",
     "iopub.status.idle": "2022-08-28T13:02:10.005139Z",
     "shell.execute_reply": "2022-08-28T13:02:10.003957Z"
    },
    "papermill": {
     "duration": 0.017444,
     "end_time": "2022-08-28T13:02:10.007754",
     "exception": false,
     "start_time": "2022-08-28T13:02:09.990310",
     "status": "completed"
    },
    "tags": []
   },
   "outputs": [],
   "source": [
    "class CovidDataset(Dataset):    \n",
    "    def __init__(self,df,transforms=None,is_valid=False):\n",
    "        self.df = df\n",
    "        self.transforms = transforms\n",
    "        self.is_valid = is_valid\n",
    "    def __len__(self):\n",
    "        return len(self.df)\n",
    "    \n",
    "    def __getitem__(self,idx):\n",
    "        img = cv2.imread(self.df['path'].iloc[idx])\n",
    "        label = self.df['label'].iloc[idx]\n",
    "        \n",
    "        if self.transforms:\n",
    "            img = self.transforms(image=img)['image']\n",
    "        img = torch.tensor(img,dtype=torch.float32)\n",
    "        label = torch.tensor(label)\n",
    "        \n",
    "        if self.is_valid:\n",
    "            return img,label,self.df['video_id'].iloc[idx]\n",
    "        return img,label"
   ]
  },
  {
   "cell_type": "code",
   "execution_count": 8,
   "id": "db186e7e",
   "metadata": {
    "execution": {
     "iopub.execute_input": "2022-08-28T13:02:10.019875Z",
     "iopub.status.busy": "2022-08-28T13:02:10.018337Z",
     "iopub.status.idle": "2022-08-28T13:02:10.025092Z",
     "shell.execute_reply": "2022-08-28T13:02:10.024285Z"
    },
    "papermill": {
     "duration": 0.014606,
     "end_time": "2022-08-28T13:02:10.027216",
     "exception": false,
     "start_time": "2022-08-28T13:02:10.012610",
     "status": "completed"
    },
    "tags": []
   },
   "outputs": [],
   "source": [
    "def get_transforms(data):\n",
    "    \n",
    "    if data == 'train':\n",
    "        return A.Compose([\n",
    "            A.Resize(*CFG.img_size,interpolation=cv2.INTER_NEAREST),\n",
    "            ToTensorV2(),\n",
    "        ],p=1.0)\n",
    "\n",
    "    elif data == 'valid':\n",
    "        return A.Compose([\n",
    "            A.Resize(*CFG.img_size,interpolation=cv2.INTER_NEAREST),\n",
    "            ToTensorV2(),\n",
    "        ],p=1.0)"
   ]
  },
  {
   "cell_type": "code",
   "execution_count": 9,
   "id": "bd88cdd0",
   "metadata": {
    "execution": {
     "iopub.execute_input": "2022-08-28T13:02:10.038081Z",
     "iopub.status.busy": "2022-08-28T13:02:10.037736Z",
     "iopub.status.idle": "2022-08-28T13:02:10.043435Z",
     "shell.execute_reply": "2022-08-28T13:02:10.042476Z"
    },
    "papermill": {
     "duration": 0.013283,
     "end_time": "2022-08-28T13:02:10.045378",
     "exception": false,
     "start_time": "2022-08-28T13:02:10.032095",
     "status": "completed"
    },
    "tags": []
   },
   "outputs": [],
   "source": [
    "class BaseModel(nn.Module):\n",
    "    def __init__(self,cfg,pretrained=False):\n",
    "        super().__init__()\n",
    "        self.cfg = cfg\n",
    "        self.model = timm.create_model(cfg.model,pretrained=pretrained)\n",
    "        self.model.head = nn.Linear(self.model.head.in_features,1)\n",
    "        \n",
    "    def forward(self,x):\n",
    "        output = self.model(x)\n",
    "        return output"
   ]
  },
  {
   "cell_type": "code",
   "execution_count": 10,
   "id": "b3024172",
   "metadata": {
    "execution": {
     "iopub.execute_input": "2022-08-28T13:02:10.056189Z",
     "iopub.status.busy": "2022-08-28T13:02:10.055903Z",
     "iopub.status.idle": "2022-08-28T13:02:10.067592Z",
     "shell.execute_reply": "2022-08-28T13:02:10.066760Z"
    },
    "papermill": {
     "duration": 0.019224,
     "end_time": "2022-08-28T13:02:10.069515",
     "exception": false,
     "start_time": "2022-08-28T13:02:10.050291",
     "status": "completed"
    },
    "tags": []
   },
   "outputs": [],
   "source": [
    "def train_one_epoch(model, optimizer, scheduler, dataloader, device, epoch):\n",
    "    model.train()\n",
    "    scaler = amp.GradScaler()\n",
    "    \n",
    "    dataset_size = 0\n",
    "    running_loss = 0.0\n",
    "    epoch_loss = 0\n",
    "    pbar = tqdm(enumerate(dataloader), total=len(dataloader), desc='Train ')\n",
    "    for step, (images, labels) in pbar:         \n",
    "        images = images.to(device, dtype=torch.float)\n",
    "        labels  = labels.to(device, dtype=torch.float)\n",
    "        \n",
    "        batch_size = images.size(0)\n",
    "        \n",
    "        with amp.autocast(enabled=True):\n",
    "            y_pred = model(images)\n",
    "            loss   = criterion(y_pred.view(-1), labels)\n",
    "            loss   = loss / CFG.n_accumulate\n",
    "            \n",
    "        scaler.scale(loss).backward()\n",
    "    \n",
    "        if (step + 1) % CFG.n_accumulate == 0:\n",
    "            scaler.step(optimizer)\n",
    "            scaler.update()\n",
    "            # zero the parameter gradients\n",
    "            optimizer.zero_grad()\n",
    "            if scheduler is not None:\n",
    "                scheduler.step()\n",
    "                \n",
    "        running_loss += (loss.item() * batch_size)\n",
    "        dataset_size += batch_size\n",
    "        \n",
    "        epoch_loss = running_loss / dataset_size\n",
    "        #print(epoch_loss)\n",
    "        mem = torch.cuda.memory_reserved() / 1E9 if torch.cuda.is_available() else 0\n",
    "        current_lr = optimizer.param_groups[0]['lr']\n",
    "        pbar.set_postfix(train_loss=f'{epoch_loss:0.4f}',\n",
    "                        lr=f'{current_lr:0.5f}',\n",
    "                        gpu_mem=f'{mem:0.2f} GB')\n",
    "        torch.cuda.empty_cache()\n",
    "        gc.collect()\n",
    "    \n",
    "    return epoch_loss"
   ]
  },
  {
   "cell_type": "code",
   "execution_count": 11,
   "id": "ea4f350d",
   "metadata": {
    "execution": {
     "iopub.execute_input": "2022-08-28T13:02:10.080533Z",
     "iopub.status.busy": "2022-08-28T13:02:10.080271Z",
     "iopub.status.idle": "2022-08-28T13:02:10.092514Z",
     "shell.execute_reply": "2022-08-28T13:02:10.091528Z"
    },
    "papermill": {
     "duration": 0.02014,
     "end_time": "2022-08-28T13:02:10.094469",
     "exception": false,
     "start_time": "2022-08-28T13:02:10.074329",
     "status": "completed"
    },
    "tags": []
   },
   "outputs": [],
   "source": [
    "@torch.no_grad()\n",
    "def valid_one_epoch(model, dataloader, device, epoch,df,fold):\n",
    "    model.eval()\n",
    "    \n",
    "    dataset_size = 0\n",
    "    running_loss = 0.0\n",
    "    \n",
    "    val_scores = []\n",
    "    video_ids_list = list(df[df['fold'] == fold]['video_id'].unique())\n",
    "    video_ids_score = {}\n",
    "    video_ids_count = {}\n",
    "    for i in video_ids_list:\n",
    "        video_ids_score[i] = 0\n",
    "        \n",
    "    for i in video_ids_list:\n",
    "        df_1 = df[df['fold'] == fold].copy()\n",
    "        video_ids_count[i] = len(df_1[df['video_id']==i])\n",
    "        \n",
    "    pbar = tqdm(enumerate(dataloader), total=len(dataloader), desc='Valid ')\n",
    "    for step, (images, labels, video_ids) in pbar:        \n",
    "        images  = images.to(device, dtype=torch.float)\n",
    "        labels   = labels.to(device, dtype=torch.float)\n",
    "        \n",
    "        batch_size = images.size(0)\n",
    "        \n",
    "        y_pred  = model(images)\n",
    "        loss    = criterion(y_pred.view(-1), labels)\n",
    "       \n",
    "            \n",
    "        running_loss += (loss.item() * batch_size)\n",
    "        dataset_size += batch_size\n",
    "        \n",
    "        epoch_loss = running_loss / dataset_size\n",
    "        \n",
    "        y_pred = nn.Sigmoid()(y_pred)\n",
    "        \n",
    "        for i in range(len(video_ids)):\n",
    "            video_ids_score[video_ids[i]] += y_pred[i].cpu().detach().numpy()\n",
    "            \n",
    "        #val_dice = dice_coef(masks, y_pred).cpu().detach().numpy()\n",
    "        #val_jaccard = iou_coef(masks, y_pred).cpu().detach().numpy()\n",
    "        #val_scores.append([val_dice, val_jaccard])\n",
    "        \n",
    "        mem = torch.cuda.memory_reserved() / 1E9 if torch.cuda.is_available() else 0\n",
    "        current_lr = optimizer.param_groups[0]['lr']\n",
    "        pbar.set_postfix(valid_loss=f'{epoch_loss:0.4f}',\n",
    "                        lr=f'{current_lr:0.5f}',\n",
    "                        gpu_memory=f'{mem:0.2f} GB')\n",
    "    scores = []\n",
    "    labels = []\n",
    "    for ids in video_ids_score:\n",
    "        video_ids_score[ids] = video_ids_score[ids]/video_ids_count[ids]\n",
    "        \n",
    "    for ids in video_ids_score:\n",
    "        labels.append(df[df['video_id']==ids]['label'].iloc[0])\n",
    "        scores.append(float(video_ids_score[ids]))\n",
    "    scores = np.array(scores)\n",
    "    scores = scores > 0.5\n",
    "    scores = list(scores)\n",
    "    val_scores  = f1_score(labels,scores)\n",
    "    torch.cuda.empty_cache()\n",
    "    gc.collect()\n",
    "    \n",
    "    return epoch_loss, val_scores"
   ]
  },
  {
   "cell_type": "code",
   "execution_count": 12,
   "id": "b1d1f1fd",
   "metadata": {
    "execution": {
     "iopub.execute_input": "2022-08-28T13:02:10.105783Z",
     "iopub.status.busy": "2022-08-28T13:02:10.105441Z",
     "iopub.status.idle": "2022-08-28T13:02:10.116336Z",
     "shell.execute_reply": "2022-08-28T13:02:10.115393Z"
    },
    "papermill": {
     "duration": 0.019035,
     "end_time": "2022-08-28T13:02:10.118387",
     "exception": false,
     "start_time": "2022-08-28T13:02:10.099352",
     "status": "completed"
    },
    "tags": []
   },
   "outputs": [],
   "source": [
    "def run_training(model, optimizer, scheduler, device, num_epochs,df,fold):\n",
    "    \n",
    "    if torch.cuda.is_available():\n",
    "        print(\"cuda: {}\\n\".format(torch.cuda.get_device_name()))\n",
    "    \n",
    "    start = time.time()\n",
    "    best_model_wts = copy.deepcopy(model.state_dict())\n",
    "    best_score      = -np.inf\n",
    "    best_epoch     = -1\n",
    "    history = defaultdict(list)\n",
    "    \n",
    "    for epoch in range(1, num_epochs + 1): \n",
    "        gc.collect()\n",
    "        print(f'Epoch {epoch}/{num_epochs}', end='')\n",
    "        train_loss = train_one_epoch(model, optimizer, scheduler, \n",
    "                                           dataloader=train_loader,\n",
    "                                     device=CFG.device, epoch=epoch)\n",
    "        val_loss, val_scores = valid_one_epoch(model, valid_loader, \n",
    "                                                 device=CFG.device, \n",
    "                                                 epoch=epoch,df=df,fold=fold)\n",
    "    \n",
    "        history['Train Loss'].append(train_loss)\n",
    "        history['Valid Loss'].append(val_loss)\n",
    "        history['Valid Score'].append(val_scores)\n",
    "        \n",
    "        \n",
    "        \n",
    "        print(f'Valid Score: {val_scores:0.4f}')\n",
    "        \n",
    "        # deep copy the model\n",
    "        if val_scores >= best_score:\n",
    "            print(f\"Valid Score Improved ({best_score:0.4f} ---> {val_scores:0.4f})\")\n",
    "            best_score    = val_scores\n",
    "            best_epoch   = epoch\n",
    "            best_model_wts = copy.deepcopy(model.state_dict())\n",
    "            PATH = f\"best_epoch-{fold:02d}.bin\"\n",
    "            torch.save(model.state_dict(), PATH)\n",
    "            # Save a model file from the current directory\n",
    "            print(f\"Model Saved\")\n",
    "            \n",
    "        last_model_wts = copy.deepcopy(model.state_dict())\n",
    "        PATH = f\"last_epoch-{fold:02d}.bin\"\n",
    "        torch.save(model.state_dict(), PATH)\n",
    "            \n",
    "        print(); print()\n",
    "    \n",
    "    end = time.time()\n",
    "    time_elapsed = end - start\n",
    "    print('Training complete in {:.0f}h {:.0f}m {:.0f}s'.format(\n",
    "        time_elapsed // 3600, (time_elapsed % 3600) // 60, (time_elapsed % 3600) % 60))\n",
    "    print(\"Best Score: {:.4f}\".format(best_score))\n",
    "    \n",
    "    # load best model weights\n",
    "    model.load_state_dict(best_model_wts)\n",
    "    \n",
    "    return model, history"
   ]
  },
  {
   "cell_type": "code",
   "execution_count": 13,
   "id": "80a07b11",
   "metadata": {
    "execution": {
     "iopub.execute_input": "2022-08-28T13:02:10.129186Z",
     "iopub.status.busy": "2022-08-28T13:02:10.128906Z",
     "iopub.status.idle": "2022-08-28T13:02:10.135988Z",
     "shell.execute_reply": "2022-08-28T13:02:10.135075Z"
    },
    "papermill": {
     "duration": 0.014681,
     "end_time": "2022-08-28T13:02:10.137917",
     "exception": false,
     "start_time": "2022-08-28T13:02:10.123236",
     "status": "completed"
    },
    "tags": []
   },
   "outputs": [],
   "source": [
    "def fetch_scheduler(optimizer):\n",
    "    if CFG.scheduler == 'CosineAnnealingLR':\n",
    "        scheduler = lr_scheduler.CosineAnnealingLR(optimizer,T_max=CFG.T_max, \n",
    "                                                   eta_min=CFG.min_lr)\n",
    "    elif CFG.scheduler == 'CosineAnnealingWarmRestarts':\n",
    "        scheduler = lr_scheduler.CosineAnnealingWarmRestarts(optimizer,T_0=CFG.T_0, \n",
    "                                                             eta_min=CFG.min_lr)\n",
    "    elif CFG.scheduler == 'ReduceLROnPlateau':\n",
    "        scheduler = lr_scheduler.ReduceLROnPlateau(optimizer,\n",
    "                                                   mode='min',\n",
    "                                                   factor=0.1,\n",
    "                                                   patience=7,\n",
    "                                                   threshold=0.0001,\n",
    "                                                   min_lr=CFG.min_lr,)\n",
    "    elif CFG.scheduer == 'ExponentialLR':\n",
    "        scheduler = lr_scheduler.ExponentialLR(optimizer, gamma=0.85)\n",
    "    elif CFG.scheduler == None:\n",
    "        return None\n",
    "        \n",
    "    return scheduler"
   ]
  },
  {
   "cell_type": "code",
   "execution_count": 14,
   "id": "5d4123c0",
   "metadata": {
    "execution": {
     "iopub.execute_input": "2022-08-28T13:02:10.150112Z",
     "iopub.status.busy": "2022-08-28T13:02:10.148510Z",
     "iopub.status.idle": "2022-08-28T13:02:10.153458Z",
     "shell.execute_reply": "2022-08-28T13:02:10.152620Z"
    },
    "papermill": {
     "duration": 0.012761,
     "end_time": "2022-08-28T13:02:10.155467",
     "exception": false,
     "start_time": "2022-08-28T13:02:10.142706",
     "status": "completed"
    },
    "tags": []
   },
   "outputs": [],
   "source": [
    "criterion = nn.BCEWithLogitsLoss()"
   ]
  },
  {
   "cell_type": "code",
   "execution_count": 15,
   "id": "d74956fa",
   "metadata": {
    "execution": {
     "iopub.execute_input": "2022-08-28T13:02:10.166193Z",
     "iopub.status.busy": "2022-08-28T13:02:10.165909Z",
     "iopub.status.idle": "2022-08-28T13:22:56.809612Z",
     "shell.execute_reply": "2022-08-28T13:22:56.808517Z"
    },
    "papermill": {
     "duration": 1246.651602,
     "end_time": "2022-08-28T13:22:56.811866",
     "exception": false,
     "start_time": "2022-08-28T13:02:10.160264",
     "status": "completed"
    },
    "tags": []
   },
   "outputs": [
    {
     "name": "stdout",
     "output_type": "stream",
     "text": [
      "###############\n",
      "### Fold: 0\n",
      "###############\n",
      "cuda: Tesla P100-PCIE-16GB\n",
      "\n",
      "Epoch 1/5"
     ]
    },
    {
     "name": "stderr",
     "output_type": "stream",
     "text": [
      "Train :   0%|          | 0/958 [00:00<?, ?it/s]/opt/conda/lib/python3.7/site-packages/ipykernel_launcher.py:15: UserWarning: To copy construct from a tensor, it is recommended to use sourceTensor.clone().detach() or sourceTensor.clone().detach().requires_grad_(True), rather than torch.tensor(sourceTensor).\n",
      "  from ipykernel import kernelapp as app\n",
      "/opt/conda/lib/python3.7/site-packages/ipykernel_launcher.py:15: UserWarning: To copy construct from a tensor, it is recommended to use sourceTensor.clone().detach() or sourceTensor.clone().detach().requires_grad_(True), rather than torch.tensor(sourceTensor).\n",
      "  from ipykernel import kernelapp as app\n",
      "/opt/conda/lib/python3.7/site-packages/torch/optim/lr_scheduler.py:136: UserWarning: Detected call of `lr_scheduler.step()` before `optimizer.step()`. In PyTorch 1.1.0 and later, you should call them in the opposite order: `optimizer.step()` before `lr_scheduler.step()`.  Failure to do this will result in PyTorch skipping the first value of the learning rate schedule. See more details at https://pytorch.org/docs/stable/optim.html#how-to-adjust-learning-rate\n",
      "  \"https://pytorch.org/docs/stable/optim.html#how-to-adjust-learning-rate\", UserWarning)\n",
      "Train : 100%|██████████| 958/958 [04:10<00:00,  3.83it/s, gpu_mem=0.59 GB, lr=0.00975, train_loss=nan]\n",
      "/opt/conda/lib/python3.7/site-packages/ipykernel_launcher.py:17: UserWarning: Boolean Series key will be reindexed to match DataFrame index.\n",
      "  app.launch_new_instance()\n",
      "Valid :   0%|          | 0/290 [00:00<?, ?it/s]/opt/conda/lib/python3.7/site-packages/ipykernel_launcher.py:15: UserWarning: To copy construct from a tensor, it is recommended to use sourceTensor.clone().detach() or sourceTensor.clone().detach().requires_grad_(True), rather than torch.tensor(sourceTensor).\n",
      "  from ipykernel import kernelapp as app\n",
      "/opt/conda/lib/python3.7/site-packages/ipykernel_launcher.py:15: UserWarning: To copy construct from a tensor, it is recommended to use sourceTensor.clone().detach() or sourceTensor.clone().detach().requires_grad_(True), rather than torch.tensor(sourceTensor).\n",
      "  from ipykernel import kernelapp as app\n",
      "Valid : 100%|██████████| 290/290 [00:24<00:00, 11.65it/s, gpu_memory=0.18 GB, lr=0.00975, valid_loss=0.2310]\n"
     ]
    },
    {
     "name": "stdout",
     "output_type": "stream",
     "text": [
      "Valid Score: 0.7692\n",
      "Valid Score Improved (-inf ---> 0.7692)\n",
      "Model Saved\n",
      "\n",
      "\n",
      "Epoch 2/5"
     ]
    },
    {
     "name": "stderr",
     "output_type": "stream",
     "text": [
      "Train :   0%|          | 0/958 [00:00<?, ?it/s]/opt/conda/lib/python3.7/site-packages/ipykernel_launcher.py:15: UserWarning: To copy construct from a tensor, it is recommended to use sourceTensor.clone().detach() or sourceTensor.clone().detach().requires_grad_(True), rather than torch.tensor(sourceTensor).\n",
      "  from ipykernel import kernelapp as app\n",
      "/opt/conda/lib/python3.7/site-packages/ipykernel_launcher.py:15: UserWarning: To copy construct from a tensor, it is recommended to use sourceTensor.clone().detach() or sourceTensor.clone().detach().requires_grad_(True), rather than torch.tensor(sourceTensor).\n",
      "  from ipykernel import kernelapp as app\n",
      "Train : 100%|██████████| 958/958 [03:43<00:00,  4.29it/s, gpu_mem=0.61 GB, lr=0.00901, train_loss=nan]\n",
      "/opt/conda/lib/python3.7/site-packages/ipykernel_launcher.py:17: UserWarning: Boolean Series key will be reindexed to match DataFrame index.\n",
      "  app.launch_new_instance()\n",
      "Valid :   0%|          | 0/290 [00:00<?, ?it/s]/opt/conda/lib/python3.7/site-packages/ipykernel_launcher.py:15: UserWarning: To copy construct from a tensor, it is recommended to use sourceTensor.clone().detach() or sourceTensor.clone().detach().requires_grad_(True), rather than torch.tensor(sourceTensor).\n",
      "  from ipykernel import kernelapp as app\n",
      "/opt/conda/lib/python3.7/site-packages/ipykernel_launcher.py:15: UserWarning: To copy construct from a tensor, it is recommended to use sourceTensor.clone().detach() or sourceTensor.clone().detach().requires_grad_(True), rather than torch.tensor(sourceTensor).\n",
      "  from ipykernel import kernelapp as app\n",
      "Valid : 100%|██████████| 290/290 [00:18<00:00, 15.84it/s, gpu_memory=0.20 GB, lr=0.00901, valid_loss=0.2310]\n"
     ]
    },
    {
     "name": "stdout",
     "output_type": "stream",
     "text": [
      "Valid Score: 0.7692\n",
      "Valid Score Improved (0.7692 ---> 0.7692)\n",
      "Model Saved\n",
      "\n",
      "\n",
      "Epoch 3/5"
     ]
    },
    {
     "name": "stderr",
     "output_type": "stream",
     "text": [
      "Train :   0%|          | 0/958 [00:00<?, ?it/s]/opt/conda/lib/python3.7/site-packages/ipykernel_launcher.py:15: UserWarning: To copy construct from a tensor, it is recommended to use sourceTensor.clone().detach() or sourceTensor.clone().detach().requires_grad_(True), rather than torch.tensor(sourceTensor).\n",
      "  from ipykernel import kernelapp as app\n",
      "/opt/conda/lib/python3.7/site-packages/ipykernel_launcher.py:15: UserWarning: To copy construct from a tensor, it is recommended to use sourceTensor.clone().detach() or sourceTensor.clone().detach().requires_grad_(True), rather than torch.tensor(sourceTensor).\n",
      "  from ipykernel import kernelapp as app\n",
      "Train : 100%|██████████| 958/958 [03:41<00:00,  4.32it/s, gpu_mem=0.62 GB, lr=0.00788, train_loss=nan]\n",
      "/opt/conda/lib/python3.7/site-packages/ipykernel_launcher.py:17: UserWarning: Boolean Series key will be reindexed to match DataFrame index.\n",
      "  app.launch_new_instance()\n",
      "Valid :   0%|          | 0/290 [00:00<?, ?it/s]/opt/conda/lib/python3.7/site-packages/ipykernel_launcher.py:15: UserWarning: To copy construct from a tensor, it is recommended to use sourceTensor.clone().detach() or sourceTensor.clone().detach().requires_grad_(True), rather than torch.tensor(sourceTensor).\n",
      "  from ipykernel import kernelapp as app\n",
      "/opt/conda/lib/python3.7/site-packages/ipykernel_launcher.py:15: UserWarning: To copy construct from a tensor, it is recommended to use sourceTensor.clone().detach() or sourceTensor.clone().detach().requires_grad_(True), rather than torch.tensor(sourceTensor).\n",
      "  from ipykernel import kernelapp as app\n",
      "Valid : 100%|██████████| 290/290 [00:17<00:00, 16.18it/s, gpu_memory=0.22 GB, lr=0.00788, valid_loss=0.2310]\n"
     ]
    },
    {
     "name": "stdout",
     "output_type": "stream",
     "text": [
      "Valid Score: 0.7692\n",
      "Valid Score Improved (0.7692 ---> 0.7692)\n",
      "Model Saved\n",
      "\n",
      "\n",
      "Epoch 4/5"
     ]
    },
    {
     "name": "stderr",
     "output_type": "stream",
     "text": [
      "/opt/conda/lib/python3.7/site-packages/ipykernel_launcher.py:15: UserWarning: To copy construct from a tensor, it is recommended to use sourceTensor.clone().detach() or sourceTensor.clone().detach().requires_grad_(True), rather than torch.tensor(sourceTensor).\n",
      "  from ipykernel import kernelapp as app\n",
      "Train :   0%|          | 0/958 [00:00<?, ?it/s]/opt/conda/lib/python3.7/site-packages/ipykernel_launcher.py:15: UserWarning: To copy construct from a tensor, it is recommended to use sourceTensor.clone().detach() or sourceTensor.clone().detach().requires_grad_(True), rather than torch.tensor(sourceTensor).\n",
      "  from ipykernel import kernelapp as app\n",
      "Train : 100%|██████████| 958/958 [03:42<00:00,  4.31it/s, gpu_mem=0.61 GB, lr=0.00645, train_loss=nan]\n",
      "/opt/conda/lib/python3.7/site-packages/ipykernel_launcher.py:17: UserWarning: Boolean Series key will be reindexed to match DataFrame index.\n",
      "  app.launch_new_instance()\n",
      "Valid :   0%|          | 0/290 [00:00<?, ?it/s]/opt/conda/lib/python3.7/site-packages/ipykernel_launcher.py:15: UserWarning: To copy construct from a tensor, it is recommended to use sourceTensor.clone().detach() or sourceTensor.clone().detach().requires_grad_(True), rather than torch.tensor(sourceTensor).\n",
      "  from ipykernel import kernelapp as app\n",
      "/opt/conda/lib/python3.7/site-packages/ipykernel_launcher.py:15: UserWarning: To copy construct from a tensor, it is recommended to use sourceTensor.clone().detach() or sourceTensor.clone().detach().requires_grad_(True), rather than torch.tensor(sourceTensor).\n",
      "  from ipykernel import kernelapp as app\n",
      "Valid : 100%|██████████| 290/290 [00:18<00:00, 15.75it/s, gpu_memory=0.21 GB, lr=0.00645, valid_loss=0.2310]\n"
     ]
    },
    {
     "name": "stdout",
     "output_type": "stream",
     "text": [
      "Valid Score: 0.7692\n",
      "Valid Score Improved (0.7692 ---> 0.7692)\n",
      "Model Saved\n",
      "\n",
      "\n",
      "Epoch 5/5"
     ]
    },
    {
     "name": "stderr",
     "output_type": "stream",
     "text": [
      "Train :   0%|          | 0/958 [00:00<?, ?it/s]/opt/conda/lib/python3.7/site-packages/ipykernel_launcher.py:15: UserWarning: To copy construct from a tensor, it is recommended to use sourceTensor.clone().detach() or sourceTensor.clone().detach().requires_grad_(True), rather than torch.tensor(sourceTensor).\n",
      "  from ipykernel import kernelapp as app\n",
      "/opt/conda/lib/python3.7/site-packages/ipykernel_launcher.py:15: UserWarning: To copy construct from a tensor, it is recommended to use sourceTensor.clone().detach() or sourceTensor.clone().detach().requires_grad_(True), rather than torch.tensor(sourceTensor).\n",
      "  from ipykernel import kernelapp as app\n",
      "Train : 100%|██████████| 958/958 [03:43<00:00,  4.28it/s, gpu_mem=0.61 GB, lr=0.00487, train_loss=nan]\n",
      "/opt/conda/lib/python3.7/site-packages/ipykernel_launcher.py:17: UserWarning: Boolean Series key will be reindexed to match DataFrame index.\n",
      "  app.launch_new_instance()\n",
      "Valid :   0%|          | 0/290 [00:00<?, ?it/s]/opt/conda/lib/python3.7/site-packages/ipykernel_launcher.py:15: UserWarning: To copy construct from a tensor, it is recommended to use sourceTensor.clone().detach() or sourceTensor.clone().detach().requires_grad_(True), rather than torch.tensor(sourceTensor).\n",
      "  from ipykernel import kernelapp as app\n",
      "/opt/conda/lib/python3.7/site-packages/ipykernel_launcher.py:15: UserWarning: To copy construct from a tensor, it is recommended to use sourceTensor.clone().detach() or sourceTensor.clone().detach().requires_grad_(True), rather than torch.tensor(sourceTensor).\n",
      "  from ipykernel import kernelapp as app\n",
      "Valid : 100%|██████████| 290/290 [00:18<00:00, 15.81it/s, gpu_memory=0.20 GB, lr=0.00487, valid_loss=0.2310]\n"
     ]
    },
    {
     "name": "stdout",
     "output_type": "stream",
     "text": [
      "Valid Score: 0.7692\n",
      "Valid Score Improved (0.7692 ---> 0.7692)\n",
      "Model Saved\n",
      "\n",
      "\n",
      "Training complete in 0h 20m 43s\n",
      "Best Score: 0.7692\n"
     ]
    }
   ],
   "source": [
    "for fold in CFG.folds:\n",
    "    print(f'#'*15)\n",
    "    print(f'### Fold: {fold}')\n",
    "    print(f'#'*15)\n",
    "    train_df = df[df['fold'] !=fold].reset_index(drop=True)\n",
    "    valid_df = df[df['fold'] ==fold].reset_index(drop=True)\n",
    "    \n",
    "    if CFG.debug:\n",
    "        train_df = train_df.head()\n",
    "        valid_df = valid_df.head()\n",
    "    \n",
    "    train_dataset = CovidDataset(train_df,transforms=get_transforms(data='train'),is_valid=False)\n",
    "    valid_dataset = CovidDataset(valid_df,transforms=get_transforms(data='valid'),is_valid=True)\n",
    "    \n",
    "    train_loader = DataLoader(train_dataset,batch_size=CFG.batch_size,shuffle=True,num_workers=2,drop_last=True)\n",
    "    valid_loader = DataLoader(valid_dataset,batch_size=CFG.batch_size,shuffle=False,num_workers=2,drop_last=False)\n",
    "    \n",
    "    cfg = CFG()\n",
    "    \n",
    "    model     = BaseModel(cfg,pretrained=True)\n",
    "    model.to(CFG.device)\n",
    "    optimizer = optim.Adam(model.parameters(), lr=CFG.lr, weight_decay=CFG.wd)\n",
    "    scheduler = fetch_scheduler(optimizer)\n",
    "    model, history = run_training(model, optimizer, scheduler,\n",
    "                                  device=CFG.device,\n",
    "                                  num_epochs=CFG.epochs,\n",
    "                                 df=df,\n",
    "                                 fold=fold)"
   ]
  },
  {
   "cell_type": "code",
   "execution_count": null,
   "id": "679116f1",
   "metadata": {
    "papermill": {
     "duration": 0.650074,
     "end_time": "2022-08-28T13:22:58.064045",
     "exception": false,
     "start_time": "2022-08-28T13:22:57.413971",
     "status": "completed"
    },
    "tags": []
   },
   "outputs": [],
   "source": []
  },
  {
   "cell_type": "code",
   "execution_count": null,
   "id": "19d7703a",
   "metadata": {
    "papermill": {
     "duration": 0.647058,
     "end_time": "2022-08-28T13:22:59.323624",
     "exception": false,
     "start_time": "2022-08-28T13:22:58.676566",
     "status": "completed"
    },
    "tags": []
   },
   "outputs": [],
   "source": []
  },
  {
   "cell_type": "code",
   "execution_count": null,
   "id": "980683a9",
   "metadata": {
    "papermill": {
     "duration": 0.645721,
     "end_time": "2022-08-28T13:23:00.571838",
     "exception": false,
     "start_time": "2022-08-28T13:22:59.926117",
     "status": "completed"
    },
    "tags": []
   },
   "outputs": [],
   "source": []
  }
 ],
 "metadata": {
  "kernelspec": {
   "display_name": "Python 3",
   "language": "python",
   "name": "python3"
  },
  "language_info": {
   "codemirror_mode": {
    "name": "ipython",
    "version": 3
   },
   "file_extension": ".py",
   "mimetype": "text/x-python",
   "name": "python",
   "nbconvert_exporter": "python",
   "pygments_lexer": "ipython3",
   "version": "3.7.12"
  },
  "papermill": {
   "default_parameters": {},
   "duration": 1277.887028,
   "end_time": "2022-08-28T13:23:03.166163",
   "environment_variables": {},
   "exception": null,
   "input_path": "__notebook__.ipynb",
   "output_path": "__notebook__.ipynb",
   "parameters": {},
   "start_time": "2022-08-28T13:01:45.279135",
   "version": "2.3.4"
  }
 },
 "nbformat": 4,
 "nbformat_minor": 5
}
