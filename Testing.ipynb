{
 "cells": [
  {
   "cell_type": "code",
   "execution_count": 1,
   "id": "25805fd7",
   "metadata": {
    "execution": {
     "iopub.execute_input": "2022-12-04T04:38:30.084311Z",
     "iopub.status.busy": "2022-12-04T04:38:30.083464Z",
     "iopub.status.idle": "2022-12-04T04:38:55.408731Z",
     "shell.execute_reply": "2022-12-04T04:38:55.407552Z"
    },
    "papermill": {
     "duration": 25.336656,
     "end_time": "2022-12-04T04:38:55.411374",
     "exception": false,
     "start_time": "2022-12-04T04:38:30.074718",
     "status": "completed"
    },
    "tags": []
   },
   "outputs": [
    {
     "name": "stdout",
     "output_type": "stream",
     "text": [
      "Collecting timm\r\n",
      "  Downloading timm-0.6.12-py3-none-any.whl (549 kB)\r\n",
      "\u001b[2K     \u001b[90m━━━━━━━━━━━━━━━━━━━━━━━━━━━━━━━━━━━━━━━\u001b[0m \u001b[32m549.1/549.1 kB\u001b[0m \u001b[31m1.5 MB/s\u001b[0m eta \u001b[36m0:00:00\u001b[0m\r\n",
      "\u001b[?25hRequirement already satisfied: huggingface-hub in /opt/conda/lib/python3.7/site-packages (from timm) (0.8.1)\r\n",
      "Requirement already satisfied: torchvision in /opt/conda/lib/python3.7/site-packages (from timm) (0.12.0)\r\n",
      "Requirement already satisfied: torch>=1.7 in /opt/conda/lib/python3.7/site-packages (from timm) (1.11.0)\r\n",
      "Requirement already satisfied: pyyaml in /opt/conda/lib/python3.7/site-packages (from timm) (6.0)\r\n",
      "Requirement already satisfied: typing-extensions in /opt/conda/lib/python3.7/site-packages (from torch>=1.7->timm) (4.3.0)\r\n",
      "Requirement already satisfied: importlib-metadata in /opt/conda/lib/python3.7/site-packages (from huggingface-hub->timm) (4.12.0)\r\n",
      "Requirement already satisfied: tqdm in /opt/conda/lib/python3.7/site-packages (from huggingface-hub->timm) (4.64.0)\r\n",
      "Requirement already satisfied: packaging>=20.9 in /opt/conda/lib/python3.7/site-packages (from huggingface-hub->timm) (21.3)\r\n",
      "Requirement already satisfied: requests in /opt/conda/lib/python3.7/site-packages (from huggingface-hub->timm) (2.28.1)\r\n",
      "Requirement already satisfied: filelock in /opt/conda/lib/python3.7/site-packages (from huggingface-hub->timm) (3.7.1)\r\n",
      "Requirement already satisfied: pillow!=8.3.*,>=5.3.0 in /opt/conda/lib/python3.7/site-packages (from torchvision->timm) (9.1.1)\r\n",
      "Requirement already satisfied: numpy in /opt/conda/lib/python3.7/site-packages (from torchvision->timm) (1.21.6)\r\n",
      "Requirement already satisfied: pyparsing!=3.0.5,>=2.0.2 in /opt/conda/lib/python3.7/site-packages (from packaging>=20.9->huggingface-hub->timm) (3.0.9)\r\n",
      "Requirement already satisfied: zipp>=0.5 in /opt/conda/lib/python3.7/site-packages (from importlib-metadata->huggingface-hub->timm) (3.8.0)\r\n",
      "Requirement already satisfied: charset-normalizer<3,>=2 in /opt/conda/lib/python3.7/site-packages (from requests->huggingface-hub->timm) (2.1.0)\r\n",
      "Requirement already satisfied: idna<4,>=2.5 in /opt/conda/lib/python3.7/site-packages (from requests->huggingface-hub->timm) (3.3)\r\n",
      "Requirement already satisfied: urllib3<1.27,>=1.21.1 in /opt/conda/lib/python3.7/site-packages (from requests->huggingface-hub->timm) (1.26.12)\r\n",
      "Requirement already satisfied: certifi>=2017.4.17 in /opt/conda/lib/python3.7/site-packages (from requests->huggingface-hub->timm) (2022.6.15)\r\n",
      "Installing collected packages: timm\r\n",
      "Successfully installed timm-0.6.12\r\n",
      "\u001b[33mWARNING: Running pip as the 'root' user can result in broken permissions and conflicting behaviour with the system package manager. It is recommended to use a virtual environment instead: https://pip.pypa.io/warnings/venv\u001b[0m\u001b[33m\r\n",
      "\u001b[0mRequirement already satisfied: wandb in /opt/conda/lib/python3.7/site-packages (0.12.21)\r\n",
      "Collecting wandb\r\n",
      "  Downloading wandb-0.13.5-py2.py3-none-any.whl (1.9 MB)\r\n",
      "\u001b[2K     \u001b[90m━━━━━━━━━━━━━━━━━━━━━━━━━━━━━━━━━━━━━━━━\u001b[0m \u001b[32m1.9/1.9 MB\u001b[0m \u001b[31m3.8 MB/s\u001b[0m eta \u001b[36m0:00:00\u001b[0m\r\n",
      "\u001b[?25hRequirement already satisfied: pathtools in /opt/conda/lib/python3.7/site-packages (from wandb) (0.1.2)\r\n",
      "Requirement already satisfied: requests<3,>=2.0.0 in /opt/conda/lib/python3.7/site-packages (from wandb) (2.28.1)\r\n",
      "Requirement already satisfied: promise<3,>=2.0 in /opt/conda/lib/python3.7/site-packages (from wandb) (2.3)\r\n",
      "Requirement already satisfied: PyYAML in /opt/conda/lib/python3.7/site-packages (from wandb) (6.0)\r\n",
      "Requirement already satisfied: setproctitle in /opt/conda/lib/python3.7/site-packages (from wandb) (1.3.2)\r\n",
      "Requirement already satisfied: GitPython>=1.0.0 in /opt/conda/lib/python3.7/site-packages (from wandb) (3.1.27)\r\n",
      "Requirement already satisfied: protobuf!=4.0.*,!=4.21.0,<5,>=3.12.0 in /opt/conda/lib/python3.7/site-packages (from wandb) (3.19.4)\r\n",
      "Requirement already satisfied: six>=1.13.0 in /opt/conda/lib/python3.7/site-packages (from wandb) (1.15.0)\r\n",
      "Requirement already satisfied: setuptools in /opt/conda/lib/python3.7/site-packages (from wandb) (59.8.0)\r\n",
      "Requirement already satisfied: sentry-sdk>=1.0.0 in /opt/conda/lib/python3.7/site-packages (from wandb) (1.9.5)\r\n",
      "Requirement already satisfied: docker-pycreds>=0.4.0 in /opt/conda/lib/python3.7/site-packages (from wandb) (0.4.0)\r\n",
      "Requirement already satisfied: psutil>=5.0.0 in /opt/conda/lib/python3.7/site-packages (from wandb) (5.9.1)\r\n",
      "Requirement already satisfied: shortuuid>=0.5.0 in /opt/conda/lib/python3.7/site-packages (from wandb) (1.0.9)\r\n",
      "Requirement already satisfied: Click!=8.0.0,>=7.0 in /opt/conda/lib/python3.7/site-packages (from wandb) (8.0.4)\r\n",
      "Requirement already satisfied: importlib-metadata in /opt/conda/lib/python3.7/site-packages (from Click!=8.0.0,>=7.0->wandb) (4.12.0)\r\n",
      "Requirement already satisfied: gitdb<5,>=4.0.1 in /opt/conda/lib/python3.7/site-packages (from GitPython>=1.0.0->wandb) (4.0.9)\r\n",
      "Requirement already satisfied: typing-extensions>=3.7.4.3 in /opt/conda/lib/python3.7/site-packages (from GitPython>=1.0.0->wandb) (4.3.0)\r\n",
      "Requirement already satisfied: certifi>=2017.4.17 in /opt/conda/lib/python3.7/site-packages (from requests<3,>=2.0.0->wandb) (2022.6.15)\r\n",
      "Requirement already satisfied: urllib3<1.27,>=1.21.1 in /opt/conda/lib/python3.7/site-packages (from requests<3,>=2.0.0->wandb) (1.26.12)\r\n",
      "Requirement already satisfied: charset-normalizer<3,>=2 in /opt/conda/lib/python3.7/site-packages (from requests<3,>=2.0.0->wandb) (2.1.0)\r\n",
      "Requirement already satisfied: idna<4,>=2.5 in /opt/conda/lib/python3.7/site-packages (from requests<3,>=2.0.0->wandb) (3.3)\r\n",
      "Requirement already satisfied: smmap<6,>=3.0.1 in /opt/conda/lib/python3.7/site-packages (from gitdb<5,>=4.0.1->GitPython>=1.0.0->wandb) (3.0.5)\r\n",
      "Requirement already satisfied: zipp>=0.5 in /opt/conda/lib/python3.7/site-packages (from importlib-metadata->Click!=8.0.0,>=7.0->wandb) (3.8.0)\r\n",
      "Installing collected packages: wandb\r\n",
      "  Attempting uninstall: wandb\r\n",
      "    Found existing installation: wandb 0.12.21\r\n",
      "    Uninstalling wandb-0.12.21:\r\n",
      "      Successfully uninstalled wandb-0.12.21\r\n",
      "\u001b[31mERROR: pip's dependency resolver does not currently take into account all the packages that are installed. This behaviour is the source of the following dependency conflicts.\r\n",
      "allennlp 2.10.0 requires protobuf==3.20.0, but you have protobuf 3.19.4 which is incompatible.\r\n",
      "allennlp 2.10.0 requires wandb<0.13.0,>=0.10.0, but you have wandb 0.13.5 which is incompatible.\u001b[0m\u001b[31m\r\n",
      "\u001b[0mSuccessfully installed wandb-0.13.5\r\n",
      "\u001b[33mWARNING: Running pip as the 'root' user can result in broken permissions and conflicting behaviour with the system package manager. It is recommended to use a virtual environment instead: https://pip.pypa.io/warnings/venv\u001b[0m\u001b[33m\r\n",
      "\u001b[0m"
     ]
    }
   ],
   "source": [
    "!pip install timm\n",
    "!pip install --upgrade wandb"
   ]
  },
  {
   "cell_type": "code",
   "execution_count": 2,
   "id": "aaf9dfd0",
   "metadata": {
    "_cell_guid": "b1076dfc-b9ad-4769-8c92-a6c4dae69d19",
    "_uuid": "8f2839f25d086af736a60e9eeb907d3b93b6e0e5",
    "execution": {
     "iopub.execute_input": "2022-12-04T04:38:55.430073Z",
     "iopub.status.busy": "2022-12-04T04:38:55.428473Z",
     "iopub.status.idle": "2022-12-04T04:38:59.747202Z",
     "shell.execute_reply": "2022-12-04T04:38:59.746191Z"
    },
    "papermill": {
     "duration": 4.330039,
     "end_time": "2022-12-04T04:38:59.749638",
     "exception": false,
     "start_time": "2022-12-04T04:38:55.419599",
     "status": "completed"
    },
    "tags": []
   },
   "outputs": [],
   "source": [
    "# This Python 3 environment comes with many helpful analytics libraries installed\n",
    "# It is defined by the kaggle/python Docker image: https://github.com/kaggle/docker-python\n",
    "# For example, here's several helpful packages to load\n",
    "import wandb\n",
    "import numpy as np # linear algebra\n",
    "import pandas as pd # data processing, CSV file I/O (e.g. pd.read_csv)\n",
    "import cv2\n",
    "import torch\n",
    "from torch.utils.data import Dataset,DataLoader\n",
    "import torch.nn as nn\n",
    "import torch.nn.functional as F\n",
    "import os\n",
    "import matplotlib.pyplot as plt\n",
    "from sklearn.model_selection import StratifiedGroupKFold\n",
    "import timm\n",
    "from tqdm import tqdm\n",
    "import albumentations as A\n",
    "from collections import defaultdict\n",
    "from albumentations.pytorch import ToTensorV2\n",
    "from sklearn.metrics import roc_auc_score,f1_score,accuracy_score,precision_score,recall_score\n",
    "from torch.cuda import amp\n",
    "import torch.optim as optim\n",
    "from torch.optim import lr_scheduler\n",
    "import time\n",
    "import gc\n",
    "import copy"
   ]
  },
  {
   "cell_type": "code",
   "execution_count": 3,
   "id": "b02e829b",
   "metadata": {
    "execution": {
     "iopub.execute_input": "2022-12-04T04:38:59.767918Z",
     "iopub.status.busy": "2022-12-04T04:38:59.766306Z",
     "iopub.status.idle": "2022-12-04T04:38:59.826525Z",
     "shell.execute_reply": "2022-12-04T04:38:59.825495Z"
    },
    "papermill": {
     "duration": 0.071108,
     "end_time": "2022-12-04T04:38:59.828685",
     "exception": false,
     "start_time": "2022-12-04T04:38:59.757577",
     "status": "completed"
    },
    "tags": []
   },
   "outputs": [],
   "source": [
    "class CFG:\n",
    "    seed          = 42\n",
    "    debug         = False # set debug=False for Full Training\n",
    "    model         =  'tf_efficientnet_b0_ns'\n",
    "    batch_size    = 32\n",
    "    img_size      = [224, 224]\n",
    "    epochs        = 10\n",
    "    lr            = 1e-4\n",
    "    scheduler     = 'CosineAnnealingLR'\n",
    "    min_lr        = 1e-4\n",
    "    T_max         = 449\n",
    "    T_0           = 25\n",
    "    warmup_epochs = 0\n",
    "    wd            = 1e-6\n",
    "    n_accumulate  = 1\n",
    "    n_fold        = 5\n",
    "    folds         = [0,1,2,3]\n",
    "    device        = torch.device(\"cuda:0\" if torch.cuda.is_available() else \"cpu\")"
   ]
  },
  {
   "cell_type": "code",
   "execution_count": 4,
   "id": "2f3c7d7e",
   "metadata": {
    "execution": {
     "iopub.execute_input": "2022-12-04T04:38:59.846102Z",
     "iopub.status.busy": "2022-12-04T04:38:59.845158Z",
     "iopub.status.idle": "2022-12-04T04:39:03.130905Z",
     "shell.execute_reply": "2022-12-04T04:39:03.129838Z"
    },
    "papermill": {
     "duration": 3.297005,
     "end_time": "2022-12-04T04:39:03.133714",
     "exception": false,
     "start_time": "2022-12-04T04:38:59.836709",
     "status": "completed"
    },
    "tags": []
   },
   "outputs": [
    {
     "name": "stderr",
     "output_type": "stream",
     "text": [
      "\u001b[34m\u001b[1mwandb\u001b[0m: W&B API key is configured. Use \u001b[1m`wandb login --relogin`\u001b[0m to force relogin\n",
      "\u001b[34m\u001b[1mwandb\u001b[0m: \u001b[33mWARNING\u001b[0m If you're specifying your api key in code, ensure this code is not shared publicly.\n",
      "\u001b[34m\u001b[1mwandb\u001b[0m: \u001b[33mWARNING\u001b[0m Consider setting the WANDB_API_KEY environment variable, or running `wandb login` from the command line.\n",
      "\u001b[34m\u001b[1mwandb\u001b[0m: Appending key for api.wandb.ai to your netrc file: /root/.netrc\n"
     ]
    }
   ],
   "source": [
    "try:\n",
    "    from kaggle_secrets import UserSecretsClient\n",
    "    user_secrets = UserSecretsClient()\n",
    "    api_key = user_secrets.get_secret(\"wandb_api\")\n",
    "    wandb.login(key=api_key)\n",
    "    anony = None\n",
    "except:\n",
    "    anony = \"must\"\n",
    "    print('If you want to use your W&B account, go to Add-ons -> Secrets and provide your W&B access token. Use the Label name as wandb_api. \\nGet your W&B access token from here: https://wandb.ai/authorize')"
   ]
  },
  {
   "cell_type": "code",
   "execution_count": 5,
   "id": "a573c333",
   "metadata": {
    "execution": {
     "iopub.execute_input": "2022-12-04T04:39:03.151329Z",
     "iopub.status.busy": "2022-12-04T04:39:03.150970Z",
     "iopub.status.idle": "2022-12-04T04:39:03.214929Z",
     "shell.execute_reply": "2022-12-04T04:39:03.213970Z"
    },
    "papermill": {
     "duration": 0.075481,
     "end_time": "2022-12-04T04:39:03.217403",
     "exception": false,
     "start_time": "2022-12-04T04:39:03.141922",
     "status": "completed"
    },
    "tags": []
   },
   "outputs": [],
   "source": [
    "df = pd.read_csv('../input/old-ultra-sound-covid-detection/covid_data.csv')\n",
    "\n",
    "def correct_path(idx):\n",
    "    path = '../input/old-ultra-sound-covid-detection/data/'+idx[6::]\n",
    "    return path\n",
    "\n",
    "df['path'] = df['path'].apply(correct_path)"
   ]
  },
  {
   "cell_type": "code",
   "execution_count": 6,
   "id": "9f395107",
   "metadata": {
    "execution": {
     "iopub.execute_input": "2022-12-04T04:39:03.235256Z",
     "iopub.status.busy": "2022-12-04T04:39:03.234917Z",
     "iopub.status.idle": "2022-12-04T04:39:03.317375Z",
     "shell.execute_reply": "2022-12-04T04:39:03.316427Z"
    },
    "papermill": {
     "duration": 0.093903,
     "end_time": "2022-12-04T04:39:03.319805",
     "exception": false,
     "start_time": "2022-12-04T04:39:03.225902",
     "status": "completed"
    },
    "tags": []
   },
   "outputs": [],
   "source": [
    "df['fold'] = -1\n",
    "skf = StratifiedGroupKFold(n_splits=4,shuffle=True,random_state=42)\n",
    "for fold,(train_idx,test_idx) in enumerate(skf.split(df['path'],df['label'],groups=df['video_id'])):\n",
    "    df.loc[test_idx,'fold'] = fold"
   ]
  },
  {
   "cell_type": "code",
   "execution_count": 7,
   "id": "c9f54717",
   "metadata": {
    "execution": {
     "iopub.execute_input": "2022-12-04T04:39:03.338676Z",
     "iopub.status.busy": "2022-12-04T04:39:03.336894Z",
     "iopub.status.idle": "2022-12-04T04:39:03.342458Z",
     "shell.execute_reply": "2022-12-04T04:39:03.341581Z"
    },
    "papermill": {
     "duration": 0.016699,
     "end_time": "2022-12-04T04:39:03.344586",
     "exception": false,
     "start_time": "2022-12-04T04:39:03.327887",
     "status": "completed"
    },
    "tags": []
   },
   "outputs": [],
   "source": [
    "#df = df.head(1024)"
   ]
  },
  {
   "cell_type": "code",
   "execution_count": 8,
   "id": "568e8176",
   "metadata": {
    "execution": {
     "iopub.execute_input": "2022-12-04T04:39:03.363176Z",
     "iopub.status.busy": "2022-12-04T04:39:03.362182Z",
     "iopub.status.idle": "2022-12-04T04:39:03.373727Z",
     "shell.execute_reply": "2022-12-04T04:39:03.372806Z"
    },
    "papermill": {
     "duration": 0.022127,
     "end_time": "2022-12-04T04:39:03.375635",
     "exception": false,
     "start_time": "2022-12-04T04:39:03.353508",
     "status": "completed"
    },
    "tags": []
   },
   "outputs": [
    {
     "data": {
      "text/plain": [
       "array(['Video_0', 'Video_1', 'Video_2', 'Video_3', 'Video_4', 'Video_5',\n",
       "       'Video_6', 'Video_7', 'Video_8', 'Video_9', 'Video_10', 'Video_11',\n",
       "       'Video_12', 'Video_13', 'Video_14', 'Video_15', 'Video_16',\n",
       "       'Video_17', 'Video_18', 'Video_19', 'Video_20', 'Video_21',\n",
       "       'Video_22', 'Video_23', 'Video_24', 'Video_25', 'Video_26',\n",
       "       'Video_27', 'Video_28', 'Video_29', 'Video_30', 'Video_31',\n",
       "       'Video_32', 'Video_33', 'Video_34', 'Video_35', 'Video_36',\n",
       "       'Video_37', 'Video_38', 'Video_39', 'Video_40', 'Video_41',\n",
       "       'Video_42', 'Video_43', 'Video_44', 'Video_45', 'Video_46',\n",
       "       'Video_47', 'Video_48', 'Video_49', 'Video_50', 'Video_51',\n",
       "       'Video_52', 'Video_53', 'Video_54', 'Video_55', 'Video_56',\n",
       "       'Video_57', 'Video_58', 'Video_59', 'Video_60', 'Video_61',\n",
       "       'Video_62', 'Video_63', 'Video_64', 'Video_65', 'Video_66',\n",
       "       'Video_67', 'Video_68', 'Video_69', 'Video_70', 'Video_71',\n",
       "       'Video_72', 'Video_73', 'Video_74', 'Video_75', 'Video_76',\n",
       "       'Video_77', 'Video_78', 'Video_79', 'Video_80', 'Video_81',\n",
       "       'Video_82', 'Video_83', 'Video_84', 'Video_85', 'Video_86',\n",
       "       'Video_87', 'Video_88', 'Video_89', 'Video_90', 'Video_91',\n",
       "       'Video_92', 'Video_93', 'Video_94', 'Video_95', 'Video_96',\n",
       "       'Video_97', 'Video_98', 'Video_99', 'Video_100', 'Video_101',\n",
       "       'Video_102', 'Video_103', 'Video_104', 'Video_105', 'Video_106',\n",
       "       'Video_107', 'Video_108', 'Video_109', 'Video_110', 'Video_111',\n",
       "       'Video_112', 'Video_113', 'Video_114', 'Video_115', 'Video_116',\n",
       "       'Video_117', 'Video_118', 'Video_119', 'Video_120', 'Video_121',\n",
       "       'Video_122', 'Video_123', 'Video_124', 'Video_125', 'Video_126',\n",
       "       'Video_127', 'Video_128', 'Video_129', 'Video_130', 'Video_131'],\n",
       "      dtype=object)"
      ]
     },
     "execution_count": 8,
     "metadata": {},
     "output_type": "execute_result"
    }
   ],
   "source": [
    "df['video_id'].unique()"
   ]
  },
  {
   "cell_type": "code",
   "execution_count": null,
   "id": "5c06046f",
   "metadata": {
    "papermill": {
     "duration": 0.007702,
     "end_time": "2022-12-04T04:39:03.391236",
     "exception": false,
     "start_time": "2022-12-04T04:39:03.383534",
     "status": "completed"
    },
    "tags": []
   },
   "outputs": [],
   "source": []
  },
  {
   "cell_type": "code",
   "execution_count": 9,
   "id": "cecf32d3",
   "metadata": {
    "execution": {
     "iopub.execute_input": "2022-12-04T04:39:03.409262Z",
     "iopub.status.busy": "2022-12-04T04:39:03.408252Z",
     "iopub.status.idle": "2022-12-04T04:39:03.416021Z",
     "shell.execute_reply": "2022-12-04T04:39:03.415173Z"
    },
    "papermill": {
     "duration": 0.018978,
     "end_time": "2022-12-04T04:39:03.417988",
     "exception": false,
     "start_time": "2022-12-04T04:39:03.399010",
     "status": "completed"
    },
    "tags": []
   },
   "outputs": [],
   "source": [
    "class CovidDataset(Dataset):    \n",
    "    def __init__(self,df,transforms=None,is_valid=False):\n",
    "        self.df = df\n",
    "        self.transforms = transforms\n",
    "        self.is_valid = is_valid\n",
    "    def __len__(self):\n",
    "        return len(self.df)\n",
    "    \n",
    "    def __getitem__(self,idx):\n",
    "        img = cv2.imread(self.df['path'].iloc[idx])\n",
    "        label = self.df['label'].iloc[idx]\n",
    "        \n",
    "        if self.transforms:\n",
    "            img = self.transforms(image=img)['image']\n",
    "        #img = torch.tensor(img,dtype=torch.float32)\n",
    "        img = img.to(torch.float32)\n",
    "        label = torch.tensor(label)\n",
    "        \n",
    "        if self.is_valid:\n",
    "            return img,label,self.df['video_id'].iloc[idx]\n",
    "        return img,label"
   ]
  },
  {
   "cell_type": "code",
   "execution_count": 10,
   "id": "514c05e6",
   "metadata": {
    "execution": {
     "iopub.execute_input": "2022-12-04T04:39:03.436435Z",
     "iopub.status.busy": "2022-12-04T04:39:03.434890Z",
     "iopub.status.idle": "2022-12-04T04:39:03.441706Z",
     "shell.execute_reply": "2022-12-04T04:39:03.440842Z"
    },
    "papermill": {
     "duration": 0.01773,
     "end_time": "2022-12-04T04:39:03.443669",
     "exception": false,
     "start_time": "2022-12-04T04:39:03.425939",
     "status": "completed"
    },
    "tags": []
   },
   "outputs": [],
   "source": [
    "def get_transforms(data):\n",
    "    \n",
    "    if data == 'train':\n",
    "        return A.Compose([\n",
    "            A.Resize(*CFG.img_size,interpolation=cv2.INTER_NEAREST),\n",
    "            #A.RandomBrightnessContrast(),\n",
    "            #A.CLAHE(),\n",
    "            #A.GaussNoise(),\n",
    "            #A.CenterCrop(*CFG.img_size),\n",
    "            A.Normalize(),\n",
    "            A.HorizontalFlip(),\n",
    "            ToTensorV2(),\n",
    "        ],p=1.0)\n",
    "\n",
    "    elif data == 'valid':\n",
    "        return A.Compose([\n",
    "            A.Resize(*CFG.img_size,interpolation=cv2.INTER_NEAREST),\n",
    "            #A.CenterCrop(*CFG.img_size),\n",
    "            A.Normalize(),\n",
    "            ToTensorV2(),\n",
    "        ],p=1.0)"
   ]
  },
  {
   "cell_type": "code",
   "execution_count": 11,
   "id": "a8f95090",
   "metadata": {
    "execution": {
     "iopub.execute_input": "2022-12-04T04:39:03.461238Z",
     "iopub.status.busy": "2022-12-04T04:39:03.460401Z",
     "iopub.status.idle": "2022-12-04T04:39:03.466923Z",
     "shell.execute_reply": "2022-12-04T04:39:03.466097Z"
    },
    "papermill": {
     "duration": 0.017491,
     "end_time": "2022-12-04T04:39:03.468972",
     "exception": false,
     "start_time": "2022-12-04T04:39:03.451481",
     "status": "completed"
    },
    "tags": []
   },
   "outputs": [],
   "source": [
    "class BaseModel(nn.Module):\n",
    "    def __init__(self,cfg,pretrained=False):\n",
    "        super().__init__()\n",
    "        self.cfg = cfg\n",
    "        self.model = timm.create_model(cfg.model,pretrained=pretrained)\n",
    "        self.n_features = self.model.classifier.in_features\n",
    "        self.model.classifier = nn.Linear(self.n_features, 3)\n",
    "        \n",
    "    def forward(self,x):\n",
    "        output = self.model(x)\n",
    "        return output"
   ]
  },
  {
   "cell_type": "code",
   "execution_count": 12,
   "id": "7a51aab1",
   "metadata": {
    "execution": {
     "iopub.execute_input": "2022-12-04T04:39:03.486617Z",
     "iopub.status.busy": "2022-12-04T04:39:03.485810Z",
     "iopub.status.idle": "2022-12-04T04:39:03.496473Z",
     "shell.execute_reply": "2022-12-04T04:39:03.495417Z"
    },
    "papermill": {
     "duration": 0.021502,
     "end_time": "2022-12-04T04:39:03.498484",
     "exception": false,
     "start_time": "2022-12-04T04:39:03.476982",
     "status": "completed"
    },
    "tags": []
   },
   "outputs": [],
   "source": [
    "def train_one_epoch(model, optimizer, scheduler, dataloader, device, epoch):\n",
    "    model.train()\n",
    "    scaler = amp.GradScaler()\n",
    "    \n",
    "    dataset_size = 0\n",
    "    running_loss = 0.0\n",
    "    epoch_loss = 0\n",
    "    pbar = tqdm(enumerate(dataloader), total=len(dataloader), desc='Train ')\n",
    "    for step, (images, labels) in pbar:\n",
    "        labels = labels.type(torch.LongTensor)\n",
    "        images = images.to(device, dtype=torch.float)\n",
    "        labels  = labels.to(device)\n",
    "        \n",
    "        batch_size = images.size(0)\n",
    "        \n",
    "        with amp.autocast(enabled=True):\n",
    "            y_pred = model(images)\n",
    "            loss   = criterion(y_pred, labels)\n",
    "            loss   = loss / CFG.n_accumulate\n",
    "            \n",
    "        scaler.scale(loss).backward()\n",
    "        torch.nn.utils.clip_grad_norm_(model.parameters(), 1)\n",
    "    \n",
    "        if (step + 1) % CFG.n_accumulate == 0:\n",
    "            scaler.step(optimizer)\n",
    "            scaler.update()\n",
    "            # zero the parameter gradients\n",
    "            optimizer.zero_grad()\n",
    "            if scheduler is not None:\n",
    "                scheduler.step()\n",
    "                \n",
    "        running_loss += (loss.item() * batch_size)\n",
    "        dataset_size += batch_size\n",
    "        \n",
    "        epoch_loss = running_loss / dataset_size\n",
    "        #print(epoch_loss)\n",
    "        mem = torch.cuda.memory_reserved() / 1E9 if torch.cuda.is_available() else 0\n",
    "        current_lr = optimizer.param_groups[0]['lr']\n",
    "        pbar.set_postfix(train_loss=f'{epoch_loss:0.4f}',\n",
    "                        lr=f'{current_lr:0.5f}',\n",
    "                        gpu_mem=f'{mem:0.2f} GB')\n",
    "        torch.cuda.empty_cache()\n",
    "        gc.collect()\n",
    "    \n",
    "    return epoch_loss"
   ]
  },
  {
   "cell_type": "code",
   "execution_count": 13,
   "id": "8025474e",
   "metadata": {
    "execution": {
     "iopub.execute_input": "2022-12-04T04:39:03.516621Z",
     "iopub.status.busy": "2022-12-04T04:39:03.515090Z",
     "iopub.status.idle": "2022-12-04T04:39:03.521988Z",
     "shell.execute_reply": "2022-12-04T04:39:03.521099Z"
    },
    "papermill": {
     "duration": 0.017701,
     "end_time": "2022-12-04T04:39:03.524097",
     "exception": false,
     "start_time": "2022-12-04T04:39:03.506396",
     "status": "completed"
    },
    "tags": []
   },
   "outputs": [
    {
     "data": {
      "text/plain": [
       "'Video_0_frame_0.jpg'"
      ]
     },
     "execution_count": 13,
     "metadata": {},
     "output_type": "execute_result"
    }
   ],
   "source": [
    "df['path'].iloc[0][47:]"
   ]
  },
  {
   "cell_type": "code",
   "execution_count": 14,
   "id": "1cb3bcb1",
   "metadata": {
    "execution": {
     "iopub.execute_input": "2022-12-04T04:39:03.541578Z",
     "iopub.status.busy": "2022-12-04T04:39:03.540804Z",
     "iopub.status.idle": "2022-12-04T04:39:03.545073Z",
     "shell.execute_reply": "2022-12-04T04:39:03.544114Z"
    },
    "papermill": {
     "duration": 0.015112,
     "end_time": "2022-12-04T04:39:03.547068",
     "exception": false,
     "start_time": "2022-12-04T04:39:03.531956",
     "status": "completed"
    },
    "tags": []
   },
   "outputs": [],
   "source": [
    "def func(idx):\n",
    "    return idx[47:]"
   ]
  },
  {
   "cell_type": "code",
   "execution_count": 15,
   "id": "eb791541",
   "metadata": {
    "execution": {
     "iopub.execute_input": "2022-12-04T04:39:03.564797Z",
     "iopub.status.busy": "2022-12-04T04:39:03.564005Z",
     "iopub.status.idle": "2022-12-04T04:39:03.574788Z",
     "shell.execute_reply": "2022-12-04T04:39:03.573944Z"
    },
    "papermill": {
     "duration": 0.021827,
     "end_time": "2022-12-04T04:39:03.576780",
     "exception": false,
     "start_time": "2022-12-04T04:39:03.554953",
     "status": "completed"
    },
    "tags": []
   },
   "outputs": [],
   "source": [
    "df['unique_id'] = df['path'].apply(func)"
   ]
  },
  {
   "cell_type": "code",
   "execution_count": 16,
   "id": "77986f32",
   "metadata": {
    "execution": {
     "iopub.execute_input": "2022-12-04T04:39:03.594143Z",
     "iopub.status.busy": "2022-12-04T04:39:03.593364Z",
     "iopub.status.idle": "2022-12-04T04:39:03.611102Z",
     "shell.execute_reply": "2022-12-04T04:39:03.610113Z"
    },
    "papermill": {
     "duration": 0.028424,
     "end_time": "2022-12-04T04:39:03.613110",
     "exception": false,
     "start_time": "2022-12-04T04:39:03.584686",
     "status": "completed"
    },
    "tags": []
   },
   "outputs": [
    {
     "data": {
      "text/html": [
       "<div>\n",
       "<style scoped>\n",
       "    .dataframe tbody tr th:only-of-type {\n",
       "        vertical-align: middle;\n",
       "    }\n",
       "\n",
       "    .dataframe tbody tr th {\n",
       "        vertical-align: top;\n",
       "    }\n",
       "\n",
       "    .dataframe thead th {\n",
       "        text-align: right;\n",
       "    }\n",
       "</style>\n",
       "<table border=\"1\" class=\"dataframe\">\n",
       "  <thead>\n",
       "    <tr style=\"text-align: right;\">\n",
       "      <th></th>\n",
       "      <th>path</th>\n",
       "      <th>label</th>\n",
       "      <th>video_id</th>\n",
       "      <th>fold</th>\n",
       "      <th>unique_id</th>\n",
       "    </tr>\n",
       "  </thead>\n",
       "  <tbody>\n",
       "    <tr>\n",
       "      <th>0</th>\n",
       "      <td>../input/old-ultra-sound-covid-detection/data/...</td>\n",
       "      <td>2</td>\n",
       "      <td>Video_0</td>\n",
       "      <td>2</td>\n",
       "      <td>Video_0_frame_0.jpg</td>\n",
       "    </tr>\n",
       "    <tr>\n",
       "      <th>1</th>\n",
       "      <td>../input/old-ultra-sound-covid-detection/data/...</td>\n",
       "      <td>2</td>\n",
       "      <td>Video_0</td>\n",
       "      <td>2</td>\n",
       "      <td>Video_0_frame_1.jpg</td>\n",
       "    </tr>\n",
       "    <tr>\n",
       "      <th>2</th>\n",
       "      <td>../input/old-ultra-sound-covid-detection/data/...</td>\n",
       "      <td>2</td>\n",
       "      <td>Video_0</td>\n",
       "      <td>2</td>\n",
       "      <td>Video_0_frame_2.jpg</td>\n",
       "    </tr>\n",
       "    <tr>\n",
       "      <th>3</th>\n",
       "      <td>../input/old-ultra-sound-covid-detection/data/...</td>\n",
       "      <td>2</td>\n",
       "      <td>Video_0</td>\n",
       "      <td>2</td>\n",
       "      <td>Video_0_frame_3.jpg</td>\n",
       "    </tr>\n",
       "    <tr>\n",
       "      <th>4</th>\n",
       "      <td>../input/old-ultra-sound-covid-detection/data/...</td>\n",
       "      <td>2</td>\n",
       "      <td>Video_0</td>\n",
       "      <td>2</td>\n",
       "      <td>Video_0_frame_4.jpg</td>\n",
       "    </tr>\n",
       "    <tr>\n",
       "      <th>...</th>\n",
       "      <td>...</td>\n",
       "      <td>...</td>\n",
       "      <td>...</td>\n",
       "      <td>...</td>\n",
       "      <td>...</td>\n",
       "    </tr>\n",
       "    <tr>\n",
       "      <th>19969</th>\n",
       "      <td>../input/old-ultra-sound-covid-detection/data/...</td>\n",
       "      <td>2</td>\n",
       "      <td>Video_131</td>\n",
       "      <td>1</td>\n",
       "      <td>Video_131_frame_70.jpg</td>\n",
       "    </tr>\n",
       "    <tr>\n",
       "      <th>19970</th>\n",
       "      <td>../input/old-ultra-sound-covid-detection/data/...</td>\n",
       "      <td>2</td>\n",
       "      <td>Video_131</td>\n",
       "      <td>1</td>\n",
       "      <td>Video_131_frame_71.jpg</td>\n",
       "    </tr>\n",
       "    <tr>\n",
       "      <th>19971</th>\n",
       "      <td>../input/old-ultra-sound-covid-detection/data/...</td>\n",
       "      <td>2</td>\n",
       "      <td>Video_131</td>\n",
       "      <td>1</td>\n",
       "      <td>Video_131_frame_72.jpg</td>\n",
       "    </tr>\n",
       "    <tr>\n",
       "      <th>19972</th>\n",
       "      <td>../input/old-ultra-sound-covid-detection/data/...</td>\n",
       "      <td>2</td>\n",
       "      <td>Video_131</td>\n",
       "      <td>1</td>\n",
       "      <td>Video_131_frame_73.jpg</td>\n",
       "    </tr>\n",
       "    <tr>\n",
       "      <th>19973</th>\n",
       "      <td>../input/old-ultra-sound-covid-detection/data/...</td>\n",
       "      <td>2</td>\n",
       "      <td>Video_131</td>\n",
       "      <td>1</td>\n",
       "      <td>Video_131_frame_74.jpg</td>\n",
       "    </tr>\n",
       "  </tbody>\n",
       "</table>\n",
       "<p>19974 rows × 5 columns</p>\n",
       "</div>"
      ],
      "text/plain": [
       "                                                    path  label   video_id  \\\n",
       "0      ../input/old-ultra-sound-covid-detection/data/...      2    Video_0   \n",
       "1      ../input/old-ultra-sound-covid-detection/data/...      2    Video_0   \n",
       "2      ../input/old-ultra-sound-covid-detection/data/...      2    Video_0   \n",
       "3      ../input/old-ultra-sound-covid-detection/data/...      2    Video_0   \n",
       "4      ../input/old-ultra-sound-covid-detection/data/...      2    Video_0   \n",
       "...                                                  ...    ...        ...   \n",
       "19969  ../input/old-ultra-sound-covid-detection/data/...      2  Video_131   \n",
       "19970  ../input/old-ultra-sound-covid-detection/data/...      2  Video_131   \n",
       "19971  ../input/old-ultra-sound-covid-detection/data/...      2  Video_131   \n",
       "19972  ../input/old-ultra-sound-covid-detection/data/...      2  Video_131   \n",
       "19973  ../input/old-ultra-sound-covid-detection/data/...      2  Video_131   \n",
       "\n",
       "       fold               unique_id  \n",
       "0         2     Video_0_frame_0.jpg  \n",
       "1         2     Video_0_frame_1.jpg  \n",
       "2         2     Video_0_frame_2.jpg  \n",
       "3         2     Video_0_frame_3.jpg  \n",
       "4         2     Video_0_frame_4.jpg  \n",
       "...     ...                     ...  \n",
       "19969     1  Video_131_frame_70.jpg  \n",
       "19970     1  Video_131_frame_71.jpg  \n",
       "19971     1  Video_131_frame_72.jpg  \n",
       "19972     1  Video_131_frame_73.jpg  \n",
       "19973     1  Video_131_frame_74.jpg  \n",
       "\n",
       "[19974 rows x 5 columns]"
      ]
     },
     "execution_count": 16,
     "metadata": {},
     "output_type": "execute_result"
    }
   ],
   "source": [
    "df"
   ]
  },
  {
   "cell_type": "code",
   "execution_count": 17,
   "id": "4b9a6d2a",
   "metadata": {
    "execution": {
     "iopub.execute_input": "2022-12-04T04:39:03.630773Z",
     "iopub.status.busy": "2022-12-04T04:39:03.630488Z",
     "iopub.status.idle": "2022-12-04T04:39:03.647688Z",
     "shell.execute_reply": "2022-12-04T04:39:03.646853Z"
    },
    "papermill": {
     "duration": 0.028342,
     "end_time": "2022-12-04T04:39:03.649677",
     "exception": false,
     "start_time": "2022-12-04T04:39:03.621335",
     "status": "completed"
    },
    "tags": []
   },
   "outputs": [],
   "source": [
    "@torch.no_grad()\n",
    "def valid_one_epoch(model, dataloader, device, epoch,df,fold):\n",
    "    label_save = np.array([])\n",
    "    preds_save = np.array([])\n",
    "    model.eval()\n",
    "    epoch_loss = 0.0\n",
    "    \n",
    "    dataset_size = 0\n",
    "    running_loss = 0.0\n",
    "    \n",
    "    \n",
    "    val_scores = []\n",
    "    video_ids_list = list(df[df['fold'] == fold]['video_id'].unique())\n",
    "    unique_ids = list(df[df['fold']==fold]['unique_id'].values)\n",
    "    video_ids_score = {}\n",
    "    video_ids_count = {}\n",
    "    for i in video_ids_list:\n",
    "        video_ids_score[i] = 0\n",
    "        \n",
    "    for i in video_ids_list:\n",
    "        df_1 = df[df['fold'] == fold].copy()\n",
    "        video_ids_count[i] = len(df_1[df['video_id']==i])\n",
    "        \n",
    "    pbar = tqdm(enumerate(dataloader), total=len(dataloader), desc='Valid ')\n",
    "    oof = pd.DataFrame()\n",
    "    scores = np.array([])\n",
    "    real_labels = np.array([])\n",
    "    real_ids = np.array([])\n",
    "    for step, (images, labels, video_ids) in pbar:\n",
    "        #images = images.type(torch.LongTensor)\n",
    "        labels = labels.type(torch.LongTensor)\n",
    "        images  = images.to(device, dtype=torch.float)\n",
    "        labels   = labels.to(device)\n",
    "        \n",
    "        \n",
    "        batch_size = images.size(0)\n",
    "        \n",
    "        y_pred  = model(images)\n",
    "        #print(y_pred)\n",
    "        #print(labels)\n",
    "        loss    = criterion(y_pred, labels)\n",
    "        \n",
    "        \n",
    "            \n",
    "        running_loss += (loss.item() * batch_size)\n",
    "        dataset_size += batch_size\n",
    "        \n",
    "        epoch_loss = running_loss / dataset_size\n",
    "        \n",
    "        preds = y_pred.cpu().detach().numpy()\n",
    "        preds = np.argmax(preds,axis=1).reshape(-1)\n",
    "        #print(scores)\n",
    "        scores = np.concatenate([scores,preds])\n",
    "        #print(video_ids)\n",
    "        real_labels = np.concatenate([real_labels,labels.cpu().numpy()])\n",
    "        real_ids = np.concatenate([real_ids,video_ids])\n",
    "        \n",
    "        \n",
    "        #y_pred = nn.Softmax()(y_pred)\n",
    "        \n",
    "        for i in range(len(video_ids)):\n",
    "            #video_ids_count[video_ids[i]] +=1\n",
    "            video_ids_score[video_ids[i]] += y_pred[i].cpu().detach().numpy()\n",
    "            \n",
    "        #val_dice = dice_coef(masks, y_pred).cpu().detach().numpy()\n",
    "        #val_jaccard = iou_coef(masks, y_pred).cpu().detach().numpy()\n",
    "        #val_scores.append([val_dice, val_jaccard])\n",
    "        \n",
    "        mem = torch.cuda.memory_reserved() / 1E9 if torch.cuda.is_available() else 0\n",
    "        current_lr = optimizer.param_groups[0]['lr']\n",
    "        pbar.set_postfix(valid_loss=f'{epoch_loss:0.4f}',\n",
    "                        lr=f'{current_lr:0.5f}',\n",
    "                        gpu_memory=f'{mem:0.2f} GB')\n",
    "    '''\n",
    "    scores = []\n",
    "    labels = []\n",
    "    for ids in video_ids_score:\n",
    "        video_ids_score[ids] = video_ids_score[ids]/video_ids_count[ids]\n",
    "    \n",
    "    for ids in video_ids_score:\n",
    "        video_ids_score[ids] = np.argmax(video_ids_score[ids])\n",
    "    \n",
    "    for ids in video_ids_score:\n",
    "        labels.append(df[df['video_id']==ids]['label'].iloc[0])\n",
    "        scores.append(float(video_ids_score[ids]))\n",
    "    scores = np.array(scores)\n",
    "    '''\n",
    "    #val_auc = roc_auc_score(labels,list(scores))\n",
    "    \n",
    "    labels = real_labels\n",
    "    #print(labels.shape)\n",
    "    #print(scores.shape)\n",
    "    val_scores = f1_score(labels,scores, average='macro')\n",
    "    val_accuracy = accuracy_score(labels,scores)\n",
    "    precision = precision_score(labels,scores, average='macro')\n",
    "    recall = recall_score(labels,scores, average='macro')\n",
    "    video_ids_1 = []\n",
    "    for ids in video_ids_score:\n",
    "        video_ids_1.append(ids)\n",
    "    #oof['video_id'] = video_ids_1\n",
    "    #oof['preds'] = scores\n",
    "    #oof['labels'] = labels\n",
    "    torch.cuda.empty_cache()\n",
    "    gc.collect()\n",
    "    \n",
    "    #print(len(unique_ids))\n",
    "    #print(len(labels))\n",
    "    \n",
    "    df = pd.DataFrame({'id':unique_ids,'label':labels,'preds':scores})\n",
    "    \n",
    "    df.to_csv(f'oof_fold{fold}.csv',index=False)\n",
    "    \n",
    "    return epoch_loss, val_scores, val_accuracy, precision, recall"
   ]
  },
  {
   "cell_type": "code",
   "execution_count": 18,
   "id": "bb412a2b",
   "metadata": {
    "execution": {
     "iopub.execute_input": "2022-12-04T04:39:03.667491Z",
     "iopub.status.busy": "2022-12-04T04:39:03.667234Z",
     "iopub.status.idle": "2022-12-04T04:39:03.678168Z",
     "shell.execute_reply": "2022-12-04T04:39:03.677236Z"
    },
    "papermill": {
     "duration": 0.022211,
     "end_time": "2022-12-04T04:39:03.680031",
     "exception": false,
     "start_time": "2022-12-04T04:39:03.657820",
     "status": "completed"
    },
    "tags": []
   },
   "outputs": [],
   "source": [
    "def run_training(model, optimizer, scheduler, device, num_epochs,df,fold):\n",
    "    \n",
    "    if torch.cuda.is_available():\n",
    "        print(\"cuda: {}\\n\".format(torch.cuda.get_device_name()))\n",
    "    \n",
    "    start = time.time()\n",
    "    best_model_wts = copy.deepcopy(model.state_dict())\n",
    "    best_score      = -np.inf\n",
    "    best_epoch     = -1\n",
    "    history = defaultdict(list)\n",
    "    \n",
    "    for epoch in range(1, num_epochs + 1): \n",
    "        gc.collect()\n",
    "        print(f'Epoch {epoch}/{num_epochs}', end='')\n",
    "        train_loss = train_one_epoch(model, optimizer, scheduler, \n",
    "                                           dataloader=train_loader,\n",
    "                                     device=CFG.device, epoch=epoch)\n",
    "        val_loss, val_scores, val_accuracy, precision, recall  = valid_one_epoch(model, valid_loader, \n",
    "                                                 device=CFG.device, \n",
    "                                                 epoch=epoch,df=df,fold=fold)\n",
    "    \n",
    "        history['Train Loss'].append(train_loss)\n",
    "        history['Valid Loss'].append(val_loss)\n",
    "        history['Valid Score'].append(val_scores)\n",
    "        \n",
    "        \n",
    "        #print(f'thresold: {best_th:0.4f}')\n",
    "        print(f'Valid F1 Score: {val_scores:0.4f}')\n",
    "        \n",
    "        wandb.log({\"Valid F1 Score\": val_scores})\n",
    "        \n",
    "        print(f'Valid Accuracy Score: {val_accuracy:0.4f}')\n",
    "        #print(f'Valid AUC Score: {val_auc:0.4f}')\n",
    "        \n",
    "        print(f'Valid Precision Score: {precision:0.4f}')\n",
    "        print(f'Valid Recall Score: {recall:0.4f}')\n",
    "        \n",
    "        # deep copy the model\n",
    "        if val_scores >= best_score:\n",
    "            print(f\"Valid Score Improved ({best_score:0.4f} ---> {val_scores:0.4f})\")\n",
    "            #best_oof = oof\n",
    "            best_score    = val_scores\n",
    "            best_epoch   = epoch\n",
    "            best_model_wts = copy.deepcopy(model.state_dict())\n",
    "            PATH = f\"best_epoch-{fold:02d}.bin\"\n",
    "            torch.save(model.state_dict(), PATH)\n",
    "            # Save a model file from the current directory\n",
    "            print(f\"Model Saved\")\n",
    "            \n",
    "        last_model_wts = copy.deepcopy(model.state_dict())\n",
    "        PATH = f\"last_epoch-{fold:02d}.bin\"\n",
    "        torch.save(model.state_dict(), PATH)\n",
    "            \n",
    "        print(); print()\n",
    "    \n",
    "    end = time.time()\n",
    "    time_elapsed = end - start\n",
    "    print('Training complete in {:.0f}h {:.0f}m {:.0f}s'.format(\n",
    "        time_elapsed // 3600, (time_elapsed % 3600) // 60, (time_elapsed % 3600) % 60))\n",
    "    #best_oof.to_csv(f'{fold}_oof.csv',index=False)\n",
    "    print(\"Best Score: {:.4f}\".format(best_score))\n",
    "    \n",
    "    # load best model weights\n",
    "    model.load_state_dict(best_model_wts)\n",
    "    \n",
    "    return model, history"
   ]
  },
  {
   "cell_type": "code",
   "execution_count": 19,
   "id": "05eabe8e",
   "metadata": {
    "execution": {
     "iopub.execute_input": "2022-12-04T04:39:03.698009Z",
     "iopub.status.busy": "2022-12-04T04:39:03.697202Z",
     "iopub.status.idle": "2022-12-04T04:39:03.703993Z",
     "shell.execute_reply": "2022-12-04T04:39:03.703234Z"
    },
    "papermill": {
     "duration": 0.017632,
     "end_time": "2022-12-04T04:39:03.705919",
     "exception": false,
     "start_time": "2022-12-04T04:39:03.688287",
     "status": "completed"
    },
    "tags": []
   },
   "outputs": [],
   "source": [
    "def fetch_scheduler(optimizer):\n",
    "    if CFG.scheduler == 'CosineAnnealingLR':\n",
    "        scheduler = lr_scheduler.CosineAnnealingLR(optimizer,T_max=CFG.T_max, \n",
    "                                                   eta_min=CFG.min_lr)\n",
    "    elif CFG.scheduler == 'CosineAnnealingWarmRestarts':\n",
    "        scheduler = lr_scheduler.CosineAnnealingWarmRestarts(optimizer,T_0=CFG.T_0, \n",
    "                                                             eta_min=CFG.min_lr)\n",
    "    elif CFG.scheduler == 'ReduceLROnPlateau':\n",
    "        scheduler = lr_scheduler.ReduceLROnPlateau(optimizer,\n",
    "                                                   mode='min',\n",
    "                                                   factor=0.1,\n",
    "                                                   patience=7,\n",
    "                                                   threshold=0.0001,\n",
    "                                                   min_lr=CFG.min_lr,)\n",
    "    elif CFG.scheduler == 'ExponentialLR':\n",
    "        scheduler = lr_scheduler.ExponentialLR(optimizer, gamma=0.85)\n",
    "    elif CFG.scheduler == 'None':\n",
    "        #scheduler = None\n",
    "        return None\n",
    "        \n",
    "    return scheduler"
   ]
  },
  {
   "cell_type": "code",
   "execution_count": 20,
   "id": "f91b9b6c",
   "metadata": {
    "execution": {
     "iopub.execute_input": "2022-12-04T04:39:03.723831Z",
     "iopub.status.busy": "2022-12-04T04:39:03.722978Z",
     "iopub.status.idle": "2022-12-04T04:39:03.727631Z",
     "shell.execute_reply": "2022-12-04T04:39:03.726792Z"
    },
    "papermill": {
     "duration": 0.015568,
     "end_time": "2022-12-04T04:39:03.729545",
     "exception": false,
     "start_time": "2022-12-04T04:39:03.713977",
     "status": "completed"
    },
    "tags": []
   },
   "outputs": [],
   "source": [
    "criterion = nn.CrossEntropyLoss()"
   ]
  },
  {
   "cell_type": "code",
   "execution_count": 21,
   "id": "deca8352",
   "metadata": {
    "execution": {
     "iopub.execute_input": "2022-12-04T04:39:03.747228Z",
     "iopub.status.busy": "2022-12-04T04:39:03.746706Z",
     "iopub.status.idle": "2022-12-04T04:39:03.752336Z",
     "shell.execute_reply": "2022-12-04T04:39:03.751464Z"
    },
    "papermill": {
     "duration": 0.016717,
     "end_time": "2022-12-04T04:39:03.754331",
     "exception": false,
     "start_time": "2022-12-04T04:39:03.737614",
     "status": "completed"
    },
    "tags": []
   },
   "outputs": [],
   "source": [
    "CONFIG = dict(\n",
    "    seed = 42,\n",
    "    model_name = 'tf_efficientnet_b0_ns',\n",
    "    train_batch_size = 32,\n",
    "    valid_batch_size = 32,\n",
    "    img_size = 224,\n",
    "    epochs = 10,\n",
    "    learning_rate = 1e-4,\n",
    "    scheduler     = 'CosineAnnealingLR',\n",
    "    min_lr        = 1e-4,\n",
    "    T_max         = 449,\n",
    "    T_0           = 25,\n",
    "    warmup_epochs = 0,\n",
    "    wd            = 1e-6,\n",
    "    n_accumulate  = 1,\n",
    "    n_fold        = 5,\n",
    "    folds         = [0, 1, 2, 3],\n",
    "    #weight_decay = 1e-6,\n",
    "    num_classes = 3,\n",
    "    device = torch.device(\"cuda:0\" if torch.cuda.is_available() else \"cpu\"),\n",
    "    competition = 'UltraSound',\n",
    "    _wandb_kernel = 'deb'\n",
    ")"
   ]
  },
  {
   "cell_type": "code",
   "execution_count": 22,
   "id": "a76cca4e",
   "metadata": {
    "execution": {
     "iopub.execute_input": "2022-12-04T04:39:03.771997Z",
     "iopub.status.busy": "2022-12-04T04:39:03.771190Z",
     "iopub.status.idle": "2022-12-04T04:39:10.054839Z",
     "shell.execute_reply": "2022-12-04T04:39:10.053957Z"
    },
    "papermill": {
     "duration": 6.294912,
     "end_time": "2022-12-04T04:39:10.057285",
     "exception": false,
     "start_time": "2022-12-04T04:39:03.762373",
     "status": "completed"
    },
    "tags": []
   },
   "outputs": [
    {
     "name": "stderr",
     "output_type": "stream",
     "text": [
      "\u001b[34m\u001b[1mwandb\u001b[0m: Currently logged in as: \u001b[33mmrigendra\u001b[0m. Use \u001b[1m`wandb login --relogin`\u001b[0m to force relogin\n"
     ]
    },
    {
     "data": {
      "text/html": [
       "Tracking run with wandb version 0.13.5"
      ],
      "text/plain": [
       "<IPython.core.display.HTML object>"
      ]
     },
     "metadata": {},
     "output_type": "display_data"
    },
    {
     "data": {
      "text/html": [
       "Run data is saved locally in <code>/kaggle/working/wandb/run-20221204_043903-1ulgetha</code>"
      ],
      "text/plain": [
       "<IPython.core.display.HTML object>"
      ]
     },
     "metadata": {},
     "output_type": "display_data"
    },
    {
     "data": {
      "text/html": [
       "Syncing run <strong><a href=\"https://wandb.ai/mrigendra/UltraSound/runs/1ulgetha\" target=\"_blank\">wild-brook-5</a></strong> to <a href=\"https://wandb.ai/mrigendra/UltraSound\" target=\"_blank\">Weights & Biases</a> (<a href=\"https://wandb.me/run\" target=\"_blank\">docs</a>)<br/>"
      ],
      "text/plain": [
       "<IPython.core.display.HTML object>"
      ]
     },
     "metadata": {},
     "output_type": "display_data"
    }
   ],
   "source": [
    "run = wandb.init(project='UltraSound', \n",
    "                 config=CONFIG,\n",
    "                 job_type='Train',\n",
    "                 anonymous='must')"
   ]
  },
  {
   "cell_type": "code",
   "execution_count": 23,
   "id": "443b8a10",
   "metadata": {
    "execution": {
     "iopub.execute_input": "2022-12-04T04:39:10.085499Z",
     "iopub.status.busy": "2022-12-04T04:39:10.085163Z",
     "iopub.status.idle": "2022-12-04T06:59:44.313583Z",
     "shell.execute_reply": "2022-12-04T06:59:44.312503Z"
    },
    "papermill": {
     "duration": 8436.052928,
     "end_time": "2022-12-04T06:59:46.123645",
     "exception": false,
     "start_time": "2022-12-04T04:39:10.070717",
     "status": "completed"
    },
    "tags": []
   },
   "outputs": [
    {
     "name": "stdout",
     "output_type": "stream",
     "text": [
      "###############\n",
      "### Fold: 0\n",
      "###############\n"
     ]
    },
    {
     "name": "stderr",
     "output_type": "stream",
     "text": [
      "Downloading: \"https://github.com/rwightman/pytorch-image-models/releases/download/v0.1-weights/tf_efficientnet_b0_ns-c0e6a31c.pth\" to /root/.cache/torch/hub/checkpoints/tf_efficientnet_b0_ns-c0e6a31c.pth\n"
     ]
    },
    {
     "name": "stdout",
     "output_type": "stream",
     "text": [
      "cuda: Tesla P100-PCIE-16GB\n",
      "\n",
      "Epoch 1/10"
     ]
    },
    {
     "name": "stderr",
     "output_type": "stream",
     "text": [
      "Train : 100%|██████████| 449/449 [03:21<00:00,  2.22it/s, gpu_mem=1.76 GB, lr=0.00010, train_loss=0.4235]\n",
      "/opt/conda/lib/python3.7/site-packages/ipykernel_launcher.py:22: UserWarning: Boolean Series key will be reindexed to match DataFrame index.\n",
      "Valid : 100%|██████████| 175/175 [00:44<00:00,  3.95it/s, gpu_memory=0.81 GB, lr=0.00010, valid_loss=0.2151]\n"
     ]
    },
    {
     "name": "stdout",
     "output_type": "stream",
     "text": [
      "Valid F1 Score: 0.9312\n",
      "Valid Accuracy Score: 0.9333\n",
      "Valid Precision Score: 0.9470\n",
      "Valid Recall Score: 0.9214\n",
      "Valid Score Improved (-inf ---> 0.9312)\n",
      "Model Saved\n",
      "\n",
      "\n",
      "Epoch 2/10"
     ]
    },
    {
     "name": "stderr",
     "output_type": "stream",
     "text": [
      "Train : 100%|██████████| 449/449 [02:55<00:00,  2.56it/s, gpu_mem=1.77 GB, lr=0.00010, train_loss=0.0224]\n",
      "/opt/conda/lib/python3.7/site-packages/ipykernel_launcher.py:22: UserWarning: Boolean Series key will be reindexed to match DataFrame index.\n",
      "Valid : 100%|██████████| 175/175 [00:25<00:00,  6.97it/s, gpu_memory=0.82 GB, lr=0.00010, valid_loss=0.4496]\n"
     ]
    },
    {
     "name": "stdout",
     "output_type": "stream",
     "text": [
      "Valid F1 Score: 0.9213\n",
      "Valid Accuracy Score: 0.9284\n",
      "Valid Precision Score: 0.9357\n",
      "Valid Recall Score: 0.9124\n",
      "\n",
      "\n",
      "Epoch 3/10"
     ]
    },
    {
     "name": "stderr",
     "output_type": "stream",
     "text": [
      "Train : 100%|██████████| 449/449 [02:54<00:00,  2.57it/s, gpu_mem=1.77 GB, lr=0.00010, train_loss=0.0085]\n",
      "/opt/conda/lib/python3.7/site-packages/ipykernel_launcher.py:22: UserWarning: Boolean Series key will be reindexed to match DataFrame index.\n",
      "Valid : 100%|██████████| 175/175 [00:25<00:00,  6.77it/s, gpu_memory=0.82 GB, lr=0.00010, valid_loss=0.9993]\n"
     ]
    },
    {
     "name": "stdout",
     "output_type": "stream",
     "text": [
      "Valid F1 Score: 0.8862\n",
      "Valid Accuracy Score: 0.9089\n",
      "Valid Precision Score: 0.9374\n",
      "Valid Recall Score: 0.8562\n",
      "\n",
      "\n",
      "Epoch 4/10"
     ]
    },
    {
     "name": "stderr",
     "output_type": "stream",
     "text": [
      "Train : 100%|██████████| 449/449 [02:54<00:00,  2.57it/s, gpu_mem=1.77 GB, lr=0.00010, train_loss=0.0133]\n",
      "/opt/conda/lib/python3.7/site-packages/ipykernel_launcher.py:22: UserWarning: Boolean Series key will be reindexed to match DataFrame index.\n",
      "Valid : 100%|██████████| 175/175 [00:26<00:00,  6.73it/s, gpu_memory=0.82 GB, lr=0.00010, valid_loss=0.7375]\n"
     ]
    },
    {
     "name": "stdout",
     "output_type": "stream",
     "text": [
      "Valid F1 Score: 0.9246\n",
      "Valid Accuracy Score: 0.9401\n",
      "Valid Precision Score: 0.9515\n",
      "Valid Recall Score: 0.9052\n",
      "\n",
      "\n",
      "Epoch 5/10"
     ]
    },
    {
     "name": "stderr",
     "output_type": "stream",
     "text": [
      "Train : 100%|██████████| 449/449 [02:54<00:00,  2.57it/s, gpu_mem=1.77 GB, lr=0.00010, train_loss=0.0040]\n",
      "/opt/conda/lib/python3.7/site-packages/ipykernel_launcher.py:22: UserWarning: Boolean Series key will be reindexed to match DataFrame index.\n",
      "Valid : 100%|██████████| 175/175 [00:25<00:00,  6.92it/s, gpu_memory=0.82 GB, lr=0.00010, valid_loss=1.2749]\n"
     ]
    },
    {
     "name": "stdout",
     "output_type": "stream",
     "text": [
      "Valid F1 Score: 0.8828\n",
      "Valid Accuracy Score: 0.9198\n",
      "Valid Precision Score: 0.9516\n",
      "Valid Recall Score: 0.8470\n",
      "\n",
      "\n",
      "Epoch 6/10"
     ]
    },
    {
     "name": "stderr",
     "output_type": "stream",
     "text": [
      "Train : 100%|██████████| 449/449 [02:54<00:00,  2.57it/s, gpu_mem=1.77 GB, lr=0.00010, train_loss=0.0150]\n",
      "/opt/conda/lib/python3.7/site-packages/ipykernel_launcher.py:22: UserWarning: Boolean Series key will be reindexed to match DataFrame index.\n",
      "Valid : 100%|██████████| 175/175 [00:25<00:00,  6.79it/s, gpu_memory=0.82 GB, lr=0.00010, valid_loss=1.1995]\n"
     ]
    },
    {
     "name": "stdout",
     "output_type": "stream",
     "text": [
      "Valid F1 Score: 0.8941\n",
      "Valid Accuracy Score: 0.9166\n",
      "Valid Precision Score: 0.9099\n",
      "Valid Recall Score: 0.8846\n",
      "\n",
      "\n",
      "Epoch 7/10"
     ]
    },
    {
     "name": "stderr",
     "output_type": "stream",
     "text": [
      "Train : 100%|██████████| 449/449 [02:55<00:00,  2.56it/s, gpu_mem=1.77 GB, lr=0.00010, train_loss=0.0297]\n",
      "/opt/conda/lib/python3.7/site-packages/ipykernel_launcher.py:22: UserWarning: Boolean Series key will be reindexed to match DataFrame index.\n",
      "Valid : 100%|██████████| 175/175 [00:26<00:00,  6.62it/s, gpu_memory=0.82 GB, lr=0.00010, valid_loss=1.1862]\n"
     ]
    },
    {
     "name": "stdout",
     "output_type": "stream",
     "text": [
      "Valid F1 Score: 0.9223\n",
      "Valid Accuracy Score: 0.9363\n",
      "Valid Precision Score: 0.9502\n",
      "Valid Recall Score: 0.9029\n",
      "\n",
      "\n",
      "Epoch 8/10"
     ]
    },
    {
     "name": "stderr",
     "output_type": "stream",
     "text": [
      "Train : 100%|██████████| 449/449 [02:55<00:00,  2.56it/s, gpu_mem=1.77 GB, lr=0.00010, train_loss=0.0020]\n",
      "/opt/conda/lib/python3.7/site-packages/ipykernel_launcher.py:22: UserWarning: Boolean Series key will be reindexed to match DataFrame index.\n",
      "Valid : 100%|██████████| 175/175 [00:26<00:00,  6.72it/s, gpu_memory=0.82 GB, lr=0.00010, valid_loss=0.8675]\n"
     ]
    },
    {
     "name": "stdout",
     "output_type": "stream",
     "text": [
      "Valid F1 Score: 0.9138\n",
      "Valid Accuracy Score: 0.9327\n",
      "Valid Precision Score: 0.9402\n",
      "Valid Recall Score: 0.8956\n",
      "\n",
      "\n",
      "Epoch 9/10"
     ]
    },
    {
     "name": "stderr",
     "output_type": "stream",
     "text": [
      "Train : 100%|██████████| 449/449 [02:53<00:00,  2.58it/s, gpu_mem=1.77 GB, lr=0.00010, train_loss=0.0031]\n",
      "/opt/conda/lib/python3.7/site-packages/ipykernel_launcher.py:22: UserWarning: Boolean Series key will be reindexed to match DataFrame index.\n",
      "Valid : 100%|██████████| 175/175 [00:25<00:00,  6.86it/s, gpu_memory=0.82 GB, lr=0.00010, valid_loss=0.9726]\n"
     ]
    },
    {
     "name": "stdout",
     "output_type": "stream",
     "text": [
      "Valid F1 Score: 0.9187\n",
      "Valid Accuracy Score: 0.9352\n",
      "Valid Precision Score: 0.9465\n",
      "Valid Recall Score: 0.8994\n",
      "\n",
      "\n",
      "Epoch 10/10"
     ]
    },
    {
     "name": "stderr",
     "output_type": "stream",
     "text": [
      "Train : 100%|██████████| 449/449 [02:54<00:00,  2.58it/s, gpu_mem=1.77 GB, lr=0.00010, train_loss=0.0012]\n",
      "/opt/conda/lib/python3.7/site-packages/ipykernel_launcher.py:22: UserWarning: Boolean Series key will be reindexed to match DataFrame index.\n",
      "Valid : 100%|██████████| 175/175 [00:25<00:00,  6.82it/s, gpu_memory=0.82 GB, lr=0.00010, valid_loss=0.8931]\n"
     ]
    },
    {
     "name": "stdout",
     "output_type": "stream",
     "text": [
      "Valid F1 Score: 0.9064\n",
      "Valid Accuracy Score: 0.9291\n",
      "Valid Precision Score: 0.9452\n",
      "Valid Recall Score: 0.8813\n",
      "\n",
      "\n",
      "Training complete in 0h 34m 18s\n",
      "Best Score: 0.9312\n",
      "###############\n",
      "### Fold: 1\n",
      "###############\n",
      "cuda: Tesla P100-PCIE-16GB\n",
      "\n",
      "Epoch 1/10"
     ]
    },
    {
     "name": "stderr",
     "output_type": "stream",
     "text": [
      "Train : 100%|██████████| 449/449 [02:53<00:00,  2.58it/s, gpu_mem=1.74 GB, lr=0.00010, train_loss=0.4546]\n",
      "/opt/conda/lib/python3.7/site-packages/ipykernel_launcher.py:22: UserWarning: Boolean Series key will be reindexed to match DataFrame index.\n",
      "Valid : 100%|██████████| 175/175 [00:27<00:00,  6.43it/s, gpu_memory=0.79 GB, lr=0.00010, valid_loss=0.2258]\n"
     ]
    },
    {
     "name": "stdout",
     "output_type": "stream",
     "text": [
      "Valid F1 Score: 0.9164\n",
      "Valid Accuracy Score: 0.9379\n",
      "Valid Precision Score: 0.9030\n",
      "Valid Recall Score: 0.9373\n",
      "Valid Score Improved (-inf ---> 0.9164)\n",
      "Model Saved\n",
      "\n",
      "\n",
      "Epoch 2/10"
     ]
    },
    {
     "name": "stderr",
     "output_type": "stream",
     "text": [
      "Train : 100%|██████████| 449/449 [02:53<00:00,  2.59it/s, gpu_mem=1.77 GB, lr=0.00010, train_loss=0.0255]\n",
      "/opt/conda/lib/python3.7/site-packages/ipykernel_launcher.py:22: UserWarning: Boolean Series key will be reindexed to match DataFrame index.\n",
      "Valid : 100%|██████████| 175/175 [00:27<00:00,  6.44it/s, gpu_memory=0.81 GB, lr=0.00010, valid_loss=0.3929]\n"
     ]
    },
    {
     "name": "stdout",
     "output_type": "stream",
     "text": [
      "Valid F1 Score: 0.8934\n",
      "Valid Accuracy Score: 0.9155\n",
      "Valid Precision Score: 0.8712\n",
      "Valid Recall Score: 0.9425\n",
      "\n",
      "\n",
      "Epoch 3/10"
     ]
    },
    {
     "name": "stderr",
     "output_type": "stream",
     "text": [
      "Train : 100%|██████████| 449/449 [02:54<00:00,  2.57it/s, gpu_mem=1.77 GB, lr=0.00010, train_loss=0.0169]\n",
      "/opt/conda/lib/python3.7/site-packages/ipykernel_launcher.py:22: UserWarning: Boolean Series key will be reindexed to match DataFrame index.\n",
      "Valid : 100%|██████████| 175/175 [00:26<00:00,  6.51it/s, gpu_memory=0.81 GB, lr=0.00010, valid_loss=0.4094]\n"
     ]
    },
    {
     "name": "stdout",
     "output_type": "stream",
     "text": [
      "Valid F1 Score: 0.9354\n",
      "Valid Accuracy Score: 0.9411\n",
      "Valid Precision Score: 0.9376\n",
      "Valid Recall Score: 0.9333\n",
      "Valid Score Improved (0.9164 ---> 0.9354)\n",
      "Model Saved\n",
      "\n",
      "\n",
      "Epoch 4/10"
     ]
    },
    {
     "name": "stderr",
     "output_type": "stream",
     "text": [
      "Train : 100%|██████████| 449/449 [02:56<00:00,  2.54it/s, gpu_mem=1.77 GB, lr=0.00010, train_loss=0.0270]\n",
      "/opt/conda/lib/python3.7/site-packages/ipykernel_launcher.py:22: UserWarning: Boolean Series key will be reindexed to match DataFrame index.\n",
      "Valid : 100%|██████████| 175/175 [00:27<00:00,  6.29it/s, gpu_memory=0.81 GB, lr=0.00010, valid_loss=1.2679]\n"
     ]
    },
    {
     "name": "stdout",
     "output_type": "stream",
     "text": [
      "Valid F1 Score: 0.8106\n",
      "Valid Accuracy Score: 0.8290\n",
      "Valid Precision Score: 0.8085\n",
      "Valid Recall Score: 0.8423\n",
      "\n",
      "\n",
      "Epoch 5/10"
     ]
    },
    {
     "name": "stderr",
     "output_type": "stream",
     "text": [
      "Train : 100%|██████████| 449/449 [02:55<00:00,  2.56it/s, gpu_mem=1.77 GB, lr=0.00010, train_loss=0.0111]\n",
      "/opt/conda/lib/python3.7/site-packages/ipykernel_launcher.py:22: UserWarning: Boolean Series key will be reindexed to match DataFrame index.\n",
      "Valid : 100%|██████████| 175/175 [00:27<00:00,  6.31it/s, gpu_memory=0.81 GB, lr=0.00010, valid_loss=0.7678]\n"
     ]
    },
    {
     "name": "stdout",
     "output_type": "stream",
     "text": [
      "Valid F1 Score: 0.9113\n",
      "Valid Accuracy Score: 0.9295\n",
      "Valid Precision Score: 0.8862\n",
      "Valid Recall Score: 0.9464\n",
      "\n",
      "\n",
      "Epoch 6/10"
     ]
    },
    {
     "name": "stderr",
     "output_type": "stream",
     "text": [
      "Train : 100%|██████████| 449/449 [02:55<00:00,  2.56it/s, gpu_mem=1.77 GB, lr=0.00010, train_loss=0.0150]\n",
      "/opt/conda/lib/python3.7/site-packages/ipykernel_launcher.py:22: UserWarning: Boolean Series key will be reindexed to match DataFrame index.\n",
      "Valid : 100%|██████████| 175/175 [00:27<00:00,  6.38it/s, gpu_memory=0.81 GB, lr=0.00010, valid_loss=2.0855]\n"
     ]
    },
    {
     "name": "stdout",
     "output_type": "stream",
     "text": [
      "Valid F1 Score: 0.8342\n",
      "Valid Accuracy Score: 0.8519\n",
      "Valid Precision Score: 0.8651\n",
      "Valid Recall Score: 0.8170\n",
      "\n",
      "\n",
      "Epoch 7/10"
     ]
    },
    {
     "name": "stderr",
     "output_type": "stream",
     "text": [
      "Train : 100%|██████████| 449/449 [02:55<00:00,  2.56it/s, gpu_mem=1.77 GB, lr=0.00010, train_loss=0.0531]\n",
      "/opt/conda/lib/python3.7/site-packages/ipykernel_launcher.py:22: UserWarning: Boolean Series key will be reindexed to match DataFrame index.\n",
      "Valid : 100%|██████████| 175/175 [00:27<00:00,  6.34it/s, gpu_memory=0.81 GB, lr=0.00010, valid_loss=1.1878]\n"
     ]
    },
    {
     "name": "stdout",
     "output_type": "stream",
     "text": [
      "Valid F1 Score: 0.8919\n",
      "Valid Accuracy Score: 0.9135\n",
      "Valid Precision Score: 0.8706\n",
      "Valid Recall Score: 0.9258\n",
      "\n",
      "\n",
      "Epoch 8/10"
     ]
    },
    {
     "name": "stderr",
     "output_type": "stream",
     "text": [
      "Train : 100%|██████████| 449/449 [02:55<00:00,  2.56it/s, gpu_mem=1.77 GB, lr=0.00010, train_loss=0.0053]\n",
      "/opt/conda/lib/python3.7/site-packages/ipykernel_launcher.py:22: UserWarning: Boolean Series key will be reindexed to match DataFrame index.\n",
      "Valid : 100%|██████████| 175/175 [00:27<00:00,  6.43it/s, gpu_memory=0.81 GB, lr=0.00010, valid_loss=1.0039]\n"
     ]
    },
    {
     "name": "stdout",
     "output_type": "stream",
     "text": [
      "Valid F1 Score: 0.9218\n",
      "Valid Accuracy Score: 0.9404\n",
      "Valid Precision Score: 0.8993\n",
      "Valid Recall Score: 0.9522\n",
      "\n",
      "\n",
      "Epoch 9/10"
     ]
    },
    {
     "name": "stderr",
     "output_type": "stream",
     "text": [
      "Train : 100%|██████████| 449/449 [02:55<00:00,  2.56it/s, gpu_mem=1.77 GB, lr=0.00010, train_loss=0.0010]\n",
      "/opt/conda/lib/python3.7/site-packages/ipykernel_launcher.py:22: UserWarning: Boolean Series key will be reindexed to match DataFrame index.\n",
      "Valid : 100%|██████████| 175/175 [00:27<00:00,  6.42it/s, gpu_memory=0.81 GB, lr=0.00010, valid_loss=1.0256]\n"
     ]
    },
    {
     "name": "stdout",
     "output_type": "stream",
     "text": [
      "Valid F1 Score: 0.9142\n",
      "Valid Accuracy Score: 0.9345\n",
      "Valid Precision Score: 0.8897\n",
      "Valid Recall Score: 0.9494\n",
      "\n",
      "\n",
      "Epoch 10/10"
     ]
    },
    {
     "name": "stderr",
     "output_type": "stream",
     "text": [
      "Train : 100%|██████████| 449/449 [02:56<00:00,  2.55it/s, gpu_mem=1.77 GB, lr=0.00010, train_loss=0.0025]\n",
      "/opt/conda/lib/python3.7/site-packages/ipykernel_launcher.py:22: UserWarning: Boolean Series key will be reindexed to match DataFrame index.\n",
      "Valid : 100%|██████████| 175/175 [00:28<00:00,  6.25it/s, gpu_memory=0.81 GB, lr=0.00010, valid_loss=1.1073]\n"
     ]
    },
    {
     "name": "stdout",
     "output_type": "stream",
     "text": [
      "Valid F1 Score: 0.8631\n",
      "Valid Accuracy Score: 0.8788\n",
      "Valid Precision Score: 0.8752\n",
      "Valid Recall Score: 0.8633\n",
      "\n",
      "\n",
      "Training complete in 0h 33m 55s\n",
      "Best Score: 0.9354\n",
      "###############\n",
      "### Fold: 2\n",
      "###############\n",
      "cuda: Tesla P100-PCIE-16GB\n",
      "\n",
      "Epoch 1/10"
     ]
    },
    {
     "name": "stderr",
     "output_type": "stream",
     "text": [
      "Train : 100%|██████████| 468/468 [03:06<00:00,  2.51it/s, gpu_mem=1.75 GB, lr=0.00010, train_loss=0.3733]\n",
      "/opt/conda/lib/python3.7/site-packages/ipykernel_launcher.py:22: UserWarning: Boolean Series key will be reindexed to match DataFrame index.\n",
      "Valid : 100%|██████████| 156/156 [00:22<00:00,  6.83it/s, gpu_memory=0.78 GB, lr=0.00010, valid_loss=0.3412]\n"
     ]
    },
    {
     "name": "stdout",
     "output_type": "stream",
     "text": [
      "Valid F1 Score: 0.8444\n",
      "Valid Accuracy Score: 0.8664\n",
      "Valid Precision Score: 0.8355\n",
      "Valid Recall Score: 0.8612\n",
      "Valid Score Improved (-inf ---> 0.8444)\n",
      "Model Saved\n",
      "\n",
      "\n",
      "Epoch 2/10"
     ]
    },
    {
     "name": "stderr",
     "output_type": "stream",
     "text": [
      "Train : 100%|██████████| 468/468 [03:05<00:00,  2.53it/s, gpu_mem=1.77 GB, lr=0.00010, train_loss=0.0153]\n",
      "/opt/conda/lib/python3.7/site-packages/ipykernel_launcher.py:22: UserWarning: Boolean Series key will be reindexed to match DataFrame index.\n",
      "Valid : 100%|██████████| 156/156 [00:22<00:00,  6.82it/s, gpu_memory=0.80 GB, lr=0.00010, valid_loss=0.4810]\n"
     ]
    },
    {
     "name": "stdout",
     "output_type": "stream",
     "text": [
      "Valid F1 Score: 0.8605\n",
      "Valid Accuracy Score: 0.8772\n",
      "Valid Precision Score: 0.8495\n",
      "Valid Recall Score: 0.8831\n",
      "Valid Score Improved (0.8444 ---> 0.8605)\n",
      "Model Saved\n",
      "\n",
      "\n",
      "Epoch 3/10"
     ]
    },
    {
     "name": "stderr",
     "output_type": "stream",
     "text": [
      "Train : 100%|██████████| 468/468 [03:05<00:00,  2.52it/s, gpu_mem=1.76 GB, lr=0.00010, train_loss=0.0163]\n",
      "/opt/conda/lib/python3.7/site-packages/ipykernel_launcher.py:22: UserWarning: Boolean Series key will be reindexed to match DataFrame index.\n",
      "Valid : 100%|██████████| 156/156 [00:22<00:00,  6.82it/s, gpu_memory=0.80 GB, lr=0.00010, valid_loss=2.1113]\n"
     ]
    },
    {
     "name": "stdout",
     "output_type": "stream",
     "text": [
      "Valid F1 Score: 0.8517\n",
      "Valid Accuracy Score: 0.8853\n",
      "Valid Precision Score: 0.8603\n",
      "Valid Recall Score: 0.8624\n",
      "\n",
      "\n",
      "Epoch 4/10"
     ]
    },
    {
     "name": "stderr",
     "output_type": "stream",
     "text": [
      "Train : 100%|██████████| 468/468 [03:05<00:00,  2.52it/s, gpu_mem=1.76 GB, lr=0.00010, train_loss=0.0176]\n",
      "/opt/conda/lib/python3.7/site-packages/ipykernel_launcher.py:22: UserWarning: Boolean Series key will be reindexed to match DataFrame index.\n",
      "Valid : 100%|██████████| 156/156 [00:23<00:00,  6.72it/s, gpu_memory=0.80 GB, lr=0.00010, valid_loss=0.9778]\n"
     ]
    },
    {
     "name": "stdout",
     "output_type": "stream",
     "text": [
      "Valid F1 Score: 0.8376\n",
      "Valid Accuracy Score: 0.8744\n",
      "Valid Precision Score: 0.8380\n",
      "Valid Recall Score: 0.8443\n",
      "\n",
      "\n",
      "Epoch 5/10"
     ]
    },
    {
     "name": "stderr",
     "output_type": "stream",
     "text": [
      "Train : 100%|██████████| 468/468 [03:07<00:00,  2.50it/s, gpu_mem=1.76 GB, lr=0.00010, train_loss=0.0151]\n",
      "/opt/conda/lib/python3.7/site-packages/ipykernel_launcher.py:22: UserWarning: Boolean Series key will be reindexed to match DataFrame index.\n",
      "Valid : 100%|██████████| 156/156 [00:22<00:00,  6.94it/s, gpu_memory=0.80 GB, lr=0.00010, valid_loss=2.2006]\n"
     ]
    },
    {
     "name": "stdout",
     "output_type": "stream",
     "text": [
      "Valid F1 Score: 0.8523\n",
      "Valid Accuracy Score: 0.8875\n",
      "Valid Precision Score: 0.8620\n",
      "Valid Recall Score: 0.8619\n",
      "\n",
      "\n",
      "Epoch 6/10"
     ]
    },
    {
     "name": "stderr",
     "output_type": "stream",
     "text": [
      "Train : 100%|██████████| 468/468 [03:07<00:00,  2.50it/s, gpu_mem=1.76 GB, lr=0.00010, train_loss=0.0095]\n",
      "/opt/conda/lib/python3.7/site-packages/ipykernel_launcher.py:22: UserWarning: Boolean Series key will be reindexed to match DataFrame index.\n",
      "Valid : 100%|██████████| 156/156 [00:23<00:00,  6.68it/s, gpu_memory=0.80 GB, lr=0.00010, valid_loss=2.0812]\n"
     ]
    },
    {
     "name": "stdout",
     "output_type": "stream",
     "text": [
      "Valid F1 Score: 0.8453\n",
      "Valid Accuracy Score: 0.8837\n",
      "Valid Precision Score: 0.8772\n",
      "Valid Recall Score: 0.8495\n",
      "\n",
      "\n",
      "Epoch 7/10"
     ]
    },
    {
     "name": "stderr",
     "output_type": "stream",
     "text": [
      "Train : 100%|██████████| 468/468 [03:06<00:00,  2.51it/s, gpu_mem=1.77 GB, lr=0.00010, train_loss=0.0097]\n",
      "/opt/conda/lib/python3.7/site-packages/ipykernel_launcher.py:22: UserWarning: Boolean Series key will be reindexed to match DataFrame index.\n",
      "Valid : 100%|██████████| 156/156 [00:23<00:00,  6.59it/s, gpu_memory=0.80 GB, lr=0.00010, valid_loss=2.4507]\n"
     ]
    },
    {
     "name": "stdout",
     "output_type": "stream",
     "text": [
      "Valid F1 Score: 0.8493\n",
      "Valid Accuracy Score: 0.8921\n",
      "Valid Precision Score: 0.8823\n",
      "Valid Recall Score: 0.8499\n",
      "\n",
      "\n",
      "Epoch 8/10"
     ]
    },
    {
     "name": "stderr",
     "output_type": "stream",
     "text": [
      "Train : 100%|██████████| 468/468 [03:06<00:00,  2.51it/s, gpu_mem=1.76 GB, lr=0.00010, train_loss=0.0418]\n",
      "/opt/conda/lib/python3.7/site-packages/ipykernel_launcher.py:22: UserWarning: Boolean Series key will be reindexed to match DataFrame index.\n",
      "Valid : 100%|██████████| 156/156 [00:22<00:00,  6.90it/s, gpu_memory=0.80 GB, lr=0.00010, valid_loss=1.4735]\n"
     ]
    },
    {
     "name": "stdout",
     "output_type": "stream",
     "text": [
      "Valid F1 Score: 0.8389\n",
      "Valid Accuracy Score: 0.8813\n",
      "Valid Precision Score: 0.8595\n",
      "Valid Recall Score: 0.8415\n",
      "\n",
      "\n",
      "Epoch 9/10"
     ]
    },
    {
     "name": "stderr",
     "output_type": "stream",
     "text": [
      "Train : 100%|██████████| 468/468 [03:08<00:00,  2.48it/s, gpu_mem=1.77 GB, lr=0.00010, train_loss=0.0026]\n",
      "/opt/conda/lib/python3.7/site-packages/ipykernel_launcher.py:22: UserWarning: Boolean Series key will be reindexed to match DataFrame index.\n",
      "Valid : 100%|██████████| 156/156 [00:21<00:00,  7.13it/s, gpu_memory=0.80 GB, lr=0.00010, valid_loss=2.0143]\n"
     ]
    },
    {
     "name": "stdout",
     "output_type": "stream",
     "text": [
      "Valid F1 Score: 0.8535\n",
      "Valid Accuracy Score: 0.8899\n",
      "Valid Precision Score: 0.8643\n",
      "Valid Recall Score: 0.8620\n",
      "\n",
      "\n",
      "Epoch 10/10"
     ]
    },
    {
     "name": "stderr",
     "output_type": "stream",
     "text": [
      "Train : 100%|██████████| 468/468 [03:09<00:00,  2.47it/s, gpu_mem=1.76 GB, lr=0.00010, train_loss=0.0001]\n",
      "/opt/conda/lib/python3.7/site-packages/ipykernel_launcher.py:22: UserWarning: Boolean Series key will be reindexed to match DataFrame index.\n",
      "Valid : 100%|██████████| 156/156 [00:23<00:00,  6.61it/s, gpu_memory=0.80 GB, lr=0.00010, valid_loss=1.7377]\n"
     ]
    },
    {
     "name": "stdout",
     "output_type": "stream",
     "text": [
      "Valid F1 Score: 0.8502\n",
      "Valid Accuracy Score: 0.8917\n",
      "Valid Precision Score: 0.8775\n",
      "Valid Recall Score: 0.8538\n",
      "\n",
      "\n",
      "Training complete in 0h 35m 8s\n",
      "Best Score: 0.8605\n",
      "###############\n",
      "### Fold: 3\n",
      "###############\n",
      "cuda: Tesla P100-PCIE-16GB\n",
      "\n",
      "Epoch 1/10"
     ]
    },
    {
     "name": "stderr",
     "output_type": "stream",
     "text": [
      "Train : 100%|██████████| 504/504 [03:22<00:00,  2.48it/s, gpu_mem=1.75 GB, lr=0.00010, train_loss=0.3328]\n",
      "/opt/conda/lib/python3.7/site-packages/ipykernel_launcher.py:22: UserWarning: Boolean Series key will be reindexed to match DataFrame index.\n",
      "Valid : 100%|██████████| 120/120 [00:16<00:00,  7.16it/s, gpu_memory=0.77 GB, lr=0.00010, valid_loss=0.5860]\n"
     ]
    },
    {
     "name": "stdout",
     "output_type": "stream",
     "text": [
      "Valid F1 Score: 0.8182\n",
      "Valid Accuracy Score: 0.8478\n",
      "Valid Precision Score: 0.8544\n",
      "Valid Recall Score: 0.8173\n",
      "Valid Score Improved (-inf ---> 0.8182)\n",
      "Model Saved\n",
      "\n",
      "\n",
      "Epoch 2/10"
     ]
    },
    {
     "name": "stderr",
     "output_type": "stream",
     "text": [
      "Train : 100%|██████████| 504/504 [03:24<00:00,  2.46it/s, gpu_mem=1.78 GB, lr=0.00010, train_loss=0.0116]\n",
      "/opt/conda/lib/python3.7/site-packages/ipykernel_launcher.py:22: UserWarning: Boolean Series key will be reindexed to match DataFrame index.\n",
      "Valid : 100%|██████████| 120/120 [00:18<00:00,  6.60it/s, gpu_memory=0.80 GB, lr=0.00010, valid_loss=1.8720]\n"
     ]
    },
    {
     "name": "stdout",
     "output_type": "stream",
     "text": [
      "Valid F1 Score: 0.8079\n",
      "Valid Accuracy Score: 0.8030\n",
      "Valid Precision Score: 0.8413\n",
      "Valid Recall Score: 0.8219\n",
      "\n",
      "\n",
      "Epoch 3/10"
     ]
    },
    {
     "name": "stderr",
     "output_type": "stream",
     "text": [
      "Train : 100%|██████████| 504/504 [03:22<00:00,  2.49it/s, gpu_mem=1.78 GB, lr=0.00010, train_loss=0.0047]\n",
      "/opt/conda/lib/python3.7/site-packages/ipykernel_launcher.py:22: UserWarning: Boolean Series key will be reindexed to match DataFrame index.\n",
      "Valid : 100%|██████████| 120/120 [00:18<00:00,  6.50it/s, gpu_memory=0.80 GB, lr=0.00010, valid_loss=0.9388]\n"
     ]
    },
    {
     "name": "stdout",
     "output_type": "stream",
     "text": [
      "Valid F1 Score: 0.8125\n",
      "Valid Accuracy Score: 0.8190\n",
      "Valid Precision Score: 0.8706\n",
      "Valid Recall Score: 0.8059\n",
      "\n",
      "\n",
      "Epoch 4/10"
     ]
    },
    {
     "name": "stderr",
     "output_type": "stream",
     "text": [
      "Train : 100%|██████████| 504/504 [03:23<00:00,  2.47it/s, gpu_mem=1.78 GB, lr=0.00010, train_loss=0.0050]\n",
      "/opt/conda/lib/python3.7/site-packages/ipykernel_launcher.py:22: UserWarning: Boolean Series key will be reindexed to match DataFrame index.\n",
      "Valid : 100%|██████████| 120/120 [00:16<00:00,  7.09it/s, gpu_memory=0.80 GB, lr=0.00010, valid_loss=0.7103]\n"
     ]
    },
    {
     "name": "stdout",
     "output_type": "stream",
     "text": [
      "Valid F1 Score: 0.8842\n",
      "Valid Accuracy Score: 0.9024\n",
      "Valid Precision Score: 0.9046\n",
      "Valid Recall Score: 0.8739\n",
      "Valid Score Improved (0.8182 ---> 0.8842)\n",
      "Model Saved\n",
      "\n",
      "\n",
      "Epoch 5/10"
     ]
    },
    {
     "name": "stderr",
     "output_type": "stream",
     "text": [
      "Train : 100%|██████████| 504/504 [03:25<00:00,  2.46it/s, gpu_mem=1.78 GB, lr=0.00010, train_loss=0.0213]\n",
      "/opt/conda/lib/python3.7/site-packages/ipykernel_launcher.py:22: UserWarning: Boolean Series key will be reindexed to match DataFrame index.\n",
      "Valid : 100%|██████████| 120/120 [00:18<00:00,  6.51it/s, gpu_memory=0.80 GB, lr=0.00010, valid_loss=1.2910]\n"
     ]
    },
    {
     "name": "stdout",
     "output_type": "stream",
     "text": [
      "Valid F1 Score: 0.8570\n",
      "Valid Accuracy Score: 0.8666\n",
      "Valid Precision Score: 0.8966\n",
      "Valid Recall Score: 0.8468\n",
      "\n",
      "\n",
      "Epoch 6/10"
     ]
    },
    {
     "name": "stderr",
     "output_type": "stream",
     "text": [
      "Train : 100%|██████████| 504/504 [03:26<00:00,  2.44it/s, gpu_mem=1.78 GB, lr=0.00010, train_loss=0.0096]\n",
      "/opt/conda/lib/python3.7/site-packages/ipykernel_launcher.py:22: UserWarning: Boolean Series key will be reindexed to match DataFrame index.\n",
      "Valid : 100%|██████████| 120/120 [00:16<00:00,  7.07it/s, gpu_memory=0.80 GB, lr=0.00010, valid_loss=2.0579]\n"
     ]
    },
    {
     "name": "stdout",
     "output_type": "stream",
     "text": [
      "Valid F1 Score: 0.7997\n",
      "Valid Accuracy Score: 0.8185\n",
      "Valid Precision Score: 0.8774\n",
      "Valid Recall Score: 0.7911\n",
      "\n",
      "\n",
      "Epoch 7/10"
     ]
    },
    {
     "name": "stderr",
     "output_type": "stream",
     "text": [
      "Train : 100%|██████████| 504/504 [03:22<00:00,  2.49it/s, gpu_mem=1.78 GB, lr=0.00010, train_loss=0.0009]\n",
      "/opt/conda/lib/python3.7/site-packages/ipykernel_launcher.py:22: UserWarning: Boolean Series key will be reindexed to match DataFrame index.\n",
      "Valid : 100%|██████████| 120/120 [00:17<00:00,  6.84it/s, gpu_memory=0.80 GB, lr=0.00010, valid_loss=0.8355]\n"
     ]
    },
    {
     "name": "stdout",
     "output_type": "stream",
     "text": [
      "Valid F1 Score: 0.8818\n",
      "Valid Accuracy Score: 0.8865\n",
      "Valid Precision Score: 0.8877\n",
      "Valid Recall Score: 0.8904\n",
      "\n",
      "\n",
      "Epoch 8/10"
     ]
    },
    {
     "name": "stderr",
     "output_type": "stream",
     "text": [
      "Train : 100%|██████████| 504/504 [03:22<00:00,  2.49it/s, gpu_mem=1.78 GB, lr=0.00010, train_loss=0.0269]\n",
      "/opt/conda/lib/python3.7/site-packages/ipykernel_launcher.py:22: UserWarning: Boolean Series key will be reindexed to match DataFrame index.\n",
      "Valid : 100%|██████████| 120/120 [00:19<00:00,  6.31it/s, gpu_memory=0.81 GB, lr=0.00010, valid_loss=1.2670]\n"
     ]
    },
    {
     "name": "stdout",
     "output_type": "stream",
     "text": [
      "Valid F1 Score: 0.8369\n",
      "Valid Accuracy Score: 0.8642\n",
      "Valid Precision Score: 0.8617\n",
      "Valid Recall Score: 0.8351\n",
      "\n",
      "\n",
      "Epoch 9/10"
     ]
    },
    {
     "name": "stderr",
     "output_type": "stream",
     "text": [
      "Train : 100%|██████████| 504/504 [03:23<00:00,  2.47it/s, gpu_mem=1.78 GB, lr=0.00010, train_loss=0.0255]\n",
      "/opt/conda/lib/python3.7/site-packages/ipykernel_launcher.py:22: UserWarning: Boolean Series key will be reindexed to match DataFrame index.\n",
      "Valid : 100%|██████████| 120/120 [00:17<00:00,  6.82it/s, gpu_memory=0.80 GB, lr=0.00010, valid_loss=1.8891]\n"
     ]
    },
    {
     "name": "stdout",
     "output_type": "stream",
     "text": [
      "Valid F1 Score: 0.8139\n",
      "Valid Accuracy Score: 0.8519\n",
      "Valid Precision Score: 0.8098\n",
      "Valid Recall Score: 0.8242\n",
      "\n",
      "\n",
      "Epoch 10/10"
     ]
    },
    {
     "name": "stderr",
     "output_type": "stream",
     "text": [
      "Train : 100%|██████████| 504/504 [03:26<00:00,  2.44it/s, gpu_mem=1.78 GB, lr=0.00010, train_loss=0.0038]\n",
      "/opt/conda/lib/python3.7/site-packages/ipykernel_launcher.py:22: UserWarning: Boolean Series key will be reindexed to match DataFrame index.\n",
      "Valid : 100%|██████████| 120/120 [00:17<00:00,  6.67it/s, gpu_memory=0.80 GB, lr=0.00010, valid_loss=1.5328]\n"
     ]
    },
    {
     "name": "stdout",
     "output_type": "stream",
     "text": [
      "Valid F1 Score: 0.8045\n",
      "Valid Accuracy Score: 0.8852\n",
      "Valid Precision Score: 0.9213\n",
      "Valid Recall Score: 0.7822\n",
      "\n",
      "\n",
      "Training complete in 0h 37m 6s\n",
      "Best Score: 0.8842\n"
     ]
    }
   ],
   "source": [
    "for fold in CFG.folds:\n",
    "    print(f'#'*15)\n",
    "    print(f'### Fold: {fold}')\n",
    "    print(f'#'*15)\n",
    "    train_df = df[df['fold'] !=fold].reset_index(drop=True)\n",
    "    valid_df = df[df['fold'] ==fold].reset_index(drop=True)\n",
    "    if CFG.debug:\n",
    "        train_df = train_df.head()\n",
    "        valid_df = valid_df.head()\n",
    "        \n",
    "    #train_df = train_df.head()\n",
    "\n",
    "    \n",
    "    train_dataset = CovidDataset(train_df,transforms=get_transforms(data='train'),is_valid=False)\n",
    "    valid_dataset = CovidDataset(valid_df,transforms=get_transforms(data='valid'),is_valid=True)\n",
    "    \n",
    "    train_loader = DataLoader(train_dataset,batch_size=CFG.batch_size,shuffle=True,num_workers=2,drop_last=True)\n",
    "    valid_loader = DataLoader(valid_dataset,batch_size=CFG.batch_size,shuffle=False,num_workers=2,drop_last=False)\n",
    "    \n",
    "    cfg = CFG()\n",
    "    \n",
    "    model     = BaseModel(cfg,pretrained=True)\n",
    "    model.to(CFG.device)\n",
    "    optimizer = optim.Adam(model.parameters(), lr=CFG.lr, weight_decay=CFG.wd)\n",
    "    scheduler = fetch_scheduler(optimizer)\n",
    "    model, history = run_training(model, optimizer, scheduler,\n",
    "                                  device=CFG.device,\n",
    "                                  num_epochs=CFG.epochs,\n",
    "                                 df=df,\n",
    "                                 fold=fold)"
   ]
  },
  {
   "cell_type": "code",
   "execution_count": 24,
   "id": "532a0889",
   "metadata": {
    "execution": {
     "iopub.execute_input": "2022-12-04T06:59:51.265799Z",
     "iopub.status.busy": "2022-12-04T06:59:51.265427Z",
     "iopub.status.idle": "2022-12-04T06:59:51.287112Z",
     "shell.execute_reply": "2022-12-04T06:59:51.286104Z"
    },
    "papermill": {
     "duration": 2.553136,
     "end_time": "2022-12-04T06:59:51.289589",
     "exception": false,
     "start_time": "2022-12-04T06:59:48.736453",
     "status": "completed"
    },
    "tags": []
   },
   "outputs": [
    {
     "data": {
      "text/html": [
       "<div>\n",
       "<style scoped>\n",
       "    .dataframe tbody tr th:only-of-type {\n",
       "        vertical-align: middle;\n",
       "    }\n",
       "\n",
       "    .dataframe tbody tr th {\n",
       "        vertical-align: top;\n",
       "    }\n",
       "\n",
       "    .dataframe thead th {\n",
       "        text-align: right;\n",
       "    }\n",
       "</style>\n",
       "<table border=\"1\" class=\"dataframe\">\n",
       "  <thead>\n",
       "    <tr style=\"text-align: right;\">\n",
       "      <th></th>\n",
       "      <th>id</th>\n",
       "      <th>label</th>\n",
       "      <th>preds</th>\n",
       "    </tr>\n",
       "  </thead>\n",
       "  <tbody>\n",
       "    <tr>\n",
       "      <th>0</th>\n",
       "      <td>Video_1_frame_0.jpg</td>\n",
       "      <td>2.0</td>\n",
       "      <td>0.0</td>\n",
       "    </tr>\n",
       "    <tr>\n",
       "      <th>1</th>\n",
       "      <td>Video_1_frame_1.jpg</td>\n",
       "      <td>2.0</td>\n",
       "      <td>0.0</td>\n",
       "    </tr>\n",
       "    <tr>\n",
       "      <th>2</th>\n",
       "      <td>Video_1_frame_2.jpg</td>\n",
       "      <td>2.0</td>\n",
       "      <td>0.0</td>\n",
       "    </tr>\n",
       "    <tr>\n",
       "      <th>3</th>\n",
       "      <td>Video_1_frame_3.jpg</td>\n",
       "      <td>2.0</td>\n",
       "      <td>2.0</td>\n",
       "    </tr>\n",
       "    <tr>\n",
       "      <th>4</th>\n",
       "      <td>Video_1_frame_4.jpg</td>\n",
       "      <td>2.0</td>\n",
       "      <td>0.0</td>\n",
       "    </tr>\n",
       "    <tr>\n",
       "      <th>...</th>\n",
       "      <td>...</td>\n",
       "      <td>...</td>\n",
       "      <td>...</td>\n",
       "    </tr>\n",
       "    <tr>\n",
       "      <th>5584</th>\n",
       "      <td>Video_130_frame_101.jpg</td>\n",
       "      <td>2.0</td>\n",
       "      <td>1.0</td>\n",
       "    </tr>\n",
       "    <tr>\n",
       "      <th>5585</th>\n",
       "      <td>Video_130_frame_102.jpg</td>\n",
       "      <td>2.0</td>\n",
       "      <td>1.0</td>\n",
       "    </tr>\n",
       "    <tr>\n",
       "      <th>5586</th>\n",
       "      <td>Video_130_frame_103.jpg</td>\n",
       "      <td>2.0</td>\n",
       "      <td>1.0</td>\n",
       "    </tr>\n",
       "    <tr>\n",
       "      <th>5587</th>\n",
       "      <td>Video_130_frame_104.jpg</td>\n",
       "      <td>2.0</td>\n",
       "      <td>1.0</td>\n",
       "    </tr>\n",
       "    <tr>\n",
       "      <th>5588</th>\n",
       "      <td>Video_130_frame_105.jpg</td>\n",
       "      <td>2.0</td>\n",
       "      <td>1.0</td>\n",
       "    </tr>\n",
       "  </tbody>\n",
       "</table>\n",
       "<p>5589 rows × 3 columns</p>\n",
       "</div>"
      ],
      "text/plain": [
       "                           id  label  preds\n",
       "0         Video_1_frame_0.jpg    2.0    0.0\n",
       "1         Video_1_frame_1.jpg    2.0    0.0\n",
       "2         Video_1_frame_2.jpg    2.0    0.0\n",
       "3         Video_1_frame_3.jpg    2.0    2.0\n",
       "4         Video_1_frame_4.jpg    2.0    0.0\n",
       "...                       ...    ...    ...\n",
       "5584  Video_130_frame_101.jpg    2.0    1.0\n",
       "5585  Video_130_frame_102.jpg    2.0    1.0\n",
       "5586  Video_130_frame_103.jpg    2.0    1.0\n",
       "5587  Video_130_frame_104.jpg    2.0    1.0\n",
       "5588  Video_130_frame_105.jpg    2.0    1.0\n",
       "\n",
       "[5589 rows x 3 columns]"
      ]
     },
     "execution_count": 24,
     "metadata": {},
     "output_type": "execute_result"
    }
   ],
   "source": [
    "pd.read_csv('/kaggle/working/oof_fold0.csv')"
   ]
  },
  {
   "cell_type": "code",
   "execution_count": 25,
   "id": "fe101529",
   "metadata": {
    "execution": {
     "iopub.execute_input": "2022-12-04T06:59:56.648421Z",
     "iopub.status.busy": "2022-12-04T06:59:56.647884Z",
     "iopub.status.idle": "2022-12-04T07:00:03.129435Z",
     "shell.execute_reply": "2022-12-04T07:00:03.128601Z"
    },
    "papermill": {
     "duration": 9.314612,
     "end_time": "2022-12-04T07:00:03.131354",
     "exception": false,
     "start_time": "2022-12-04T06:59:53.816742",
     "status": "completed"
    },
    "tags": []
   },
   "outputs": [
    {
     "data": {
      "text/html": [
       "Waiting for W&B process to finish... <strong style=\"color:green\">(success).</strong>"
      ],
      "text/plain": [
       "<IPython.core.display.HTML object>"
      ]
     },
     "metadata": {},
     "output_type": "display_data"
    },
    {
     "data": {
      "text/html": [
       "<style>\n",
       "    table.wandb td:nth-child(1) { padding: 0 10px; text-align: left ; width: auto;} td:nth-child(2) {text-align: left ; width: 100%}\n",
       "    .wandb-row { display: flex; flex-direction: row; flex-wrap: wrap; justify-content: flex-start; width: 100% }\n",
       "    .wandb-col { display: flex; flex-direction: column; flex-basis: 100%; flex: 1; padding: 10px; }\n",
       "    </style>\n",
       "<div class=\"wandb-row\"><div class=\"wandb-col\"><h3>Run history:</h3><br/><table class=\"wandb\"><tr><td>Valid F1 Score</td><td>█▇▅▇▅▆▇▇▇▇▇▆█▂▇▃▆▇▇▄▃▄▄▃▄▃▄▃▄▄▂▁▂▅▄▁▅▃▂▁</td></tr></table><br/></div><div class=\"wandb-col\"><h3>Run summary:</h3><br/><table class=\"wandb\"><tr><td>Valid F1 Score</td><td>0.80448</td></tr></table><br/></div></div>"
      ],
      "text/plain": [
       "<IPython.core.display.HTML object>"
      ]
     },
     "metadata": {},
     "output_type": "display_data"
    },
    {
     "data": {
      "text/html": [
       "Synced <strong style=\"color:#cdcd00\">wild-brook-5</strong>: <a href=\"https://wandb.ai/mrigendra/UltraSound/runs/1ulgetha\" target=\"_blank\">https://wandb.ai/mrigendra/UltraSound/runs/1ulgetha</a><br/>Synced 6 W&B file(s), 0 media file(s), 0 artifact file(s) and 0 other file(s)"
      ],
      "text/plain": [
       "<IPython.core.display.HTML object>"
      ]
     },
     "metadata": {},
     "output_type": "display_data"
    },
    {
     "data": {
      "text/html": [
       "Find logs at: <code>./wandb/run-20221204_043903-1ulgetha/logs</code>"
      ],
      "text/plain": [
       "<IPython.core.display.HTML object>"
      ]
     },
     "metadata": {},
     "output_type": "display_data"
    }
   ],
   "source": [
    "run.finish()"
   ]
  },
  {
   "cell_type": "code",
   "execution_count": null,
   "id": "21044bf3",
   "metadata": {
    "papermill": {
     "duration": 2.495027,
     "end_time": "2022-12-04T07:00:08.342890",
     "exception": false,
     "start_time": "2022-12-04T07:00:05.847863",
     "status": "completed"
    },
    "tags": []
   },
   "outputs": [],
   "source": []
  },
  {
   "cell_type": "code",
   "execution_count": null,
   "id": "27e4b521",
   "metadata": {
    "papermill": {
     "duration": 2.490847,
     "end_time": "2022-12-04T07:00:13.814199",
     "exception": false,
     "start_time": "2022-12-04T07:00:11.323352",
     "status": "completed"
    },
    "tags": []
   },
   "outputs": [],
   "source": []
  }
 ],
 "metadata": {
  "kernelspec": {
   "display_name": "Python 3",
   "language": "python",
   "name": "python3"
  },
  "language_info": {
   "codemirror_mode": {
    "name": "ipython",
    "version": 3
   },
   "file_extension": ".py",
   "mimetype": "text/x-python",
   "name": "python",
   "nbconvert_exporter": "python",
   "pygments_lexer": "ipython3",
   "version": "3.7.12"
  },
  "papermill": {
   "default_parameters": {},
   "duration": 8516.653631,
   "end_time": "2022-12-04T07:00:19.262808",
   "environment_variables": {},
   "exception": null,
   "input_path": "__notebook__.ipynb",
   "output_path": "__notebook__.ipynb",
   "parameters": {},
   "start_time": "2022-12-04T04:38:22.609177",
   "version": "2.3.4"
  },
  "widgets": {
   "application/vnd.jupyter.widget-state+json": {
    "state": {
     "0322818314be4cbeb5ee543e38e9b95d": {
      "model_module": "@jupyter-widgets/controls",
      "model_module_version": "1.5.0",
      "model_name": "DescriptionStyleModel",
      "state": {
       "_model_module": "@jupyter-widgets/controls",
       "_model_module_version": "1.5.0",
       "_model_name": "DescriptionStyleModel",
       "_view_count": null,
       "_view_module": "@jupyter-widgets/base",
       "_view_module_version": "1.2.0",
       "_view_name": "StyleView",
       "description_width": ""
      }
     },
     "2ed47de1b03f4ef5b77706b1df280973": {
      "model_module": "@jupyter-widgets/controls",
      "model_module_version": "1.5.0",
      "model_name": "VBoxModel",
      "state": {
       "_dom_classes": [],
       "_model_module": "@jupyter-widgets/controls",
       "_model_module_version": "1.5.0",
       "_model_name": "VBoxModel",
       "_view_count": null,
       "_view_module": "@jupyter-widgets/controls",
       "_view_module_version": "1.5.0",
       "_view_name": "VBoxView",
       "box_style": "",
       "children": [
        "IPY_MODEL_aa3a4b0537294fb78e18f7f6070f1c59",
        "IPY_MODEL_9473d57109044239bb78ce97f4fd1eaf"
       ],
       "layout": "IPY_MODEL_761aa53dad774b73b4b42d2cbcbaf3cc"
      }
     },
     "51607b01c2a14e63b78e47cc94489868": {
      "model_module": "@jupyter-widgets/controls",
      "model_module_version": "1.5.0",
      "model_name": "ProgressStyleModel",
      "state": {
       "_model_module": "@jupyter-widgets/controls",
       "_model_module_version": "1.5.0",
       "_model_name": "ProgressStyleModel",
       "_view_count": null,
       "_view_module": "@jupyter-widgets/base",
       "_view_module_version": "1.2.0",
       "_view_name": "StyleView",
       "bar_color": null,
       "description_width": ""
      }
     },
     "7053e81ff1604f11b7b99ed5f0acc79b": {
      "model_module": "@jupyter-widgets/controls",
      "model_module_version": "1.5.0",
      "model_name": "FloatProgressModel",
      "state": {
       "_dom_classes": [],
       "_model_module": "@jupyter-widgets/controls",
       "_model_module_version": "1.5.0",
       "_model_name": "FloatProgressModel",
       "_view_count": null,
       "_view_module": "@jupyter-widgets/controls",
       "_view_module_version": "1.5.0",
       "_view_name": "ProgressView",
       "bar_style": "",
       "description": "",
       "description_tooltip": null,
       "layout": "IPY_MODEL_ccfb5621e7864343854fc650ea001b23",
       "max": 1.0,
       "min": 0.0,
       "orientation": "horizontal",
       "style": "IPY_MODEL_8658f600ff3b4184b16144451018d7f6",
       "value": 0.0
      }
     },
     "761aa53dad774b73b4b42d2cbcbaf3cc": {
      "model_module": "@jupyter-widgets/base",
      "model_module_version": "1.2.0",
      "model_name": "LayoutModel",
      "state": {
       "_model_module": "@jupyter-widgets/base",
       "_model_module_version": "1.2.0",
       "_model_name": "LayoutModel",
       "_view_count": null,
       "_view_module": "@jupyter-widgets/base",
       "_view_module_version": "1.2.0",
       "_view_name": "LayoutView",
       "align_content": null,
       "align_items": null,
       "align_self": null,
       "border": null,
       "bottom": null,
       "display": null,
       "flex": null,
       "flex_flow": null,
       "grid_area": null,
       "grid_auto_columns": null,
       "grid_auto_flow": null,
       "grid_auto_rows": null,
       "grid_column": null,
       "grid_gap": null,
       "grid_row": null,
       "grid_template_areas": null,
       "grid_template_columns": null,
       "grid_template_rows": null,
       "height": null,
       "justify_content": null,
       "justify_items": null,
       "left": null,
       "margin": null,
       "max_height": null,
       "max_width": null,
       "min_height": null,
       "min_width": null,
       "object_fit": null,
       "object_position": null,
       "order": null,
       "overflow": null,
       "overflow_x": null,
       "overflow_y": null,
       "padding": null,
       "right": null,
       "top": null,
       "visibility": null,
       "width": null
      }
     },
     "7c65857319164186b34be668e142768a": {
      "model_module": "@jupyter-widgets/base",
      "model_module_version": "1.2.0",
      "model_name": "LayoutModel",
      "state": {
       "_model_module": "@jupyter-widgets/base",
       "_model_module_version": "1.2.0",
       "_model_name": "LayoutModel",
       "_view_count": null,
       "_view_module": "@jupyter-widgets/base",
       "_view_module_version": "1.2.0",
       "_view_name": "LayoutView",
       "align_content": null,
       "align_items": null,
       "align_self": null,
       "border": null,
       "bottom": null,
       "display": null,
       "flex": null,
       "flex_flow": null,
       "grid_area": null,
       "grid_auto_columns": null,
       "grid_auto_flow": null,
       "grid_auto_rows": null,
       "grid_column": null,
       "grid_gap": null,
       "grid_row": null,
       "grid_template_areas": null,
       "grid_template_columns": null,
       "grid_template_rows": null,
       "height": null,
       "justify_content": null,
       "justify_items": null,
       "left": null,
       "margin": null,
       "max_height": null,
       "max_width": null,
       "min_height": null,
       "min_width": null,
       "object_fit": null,
       "object_position": null,
       "order": null,
       "overflow": null,
       "overflow_x": null,
       "overflow_y": null,
       "padding": null,
       "right": null,
       "top": null,
       "visibility": null,
       "width": null
      }
     },
     "8658f600ff3b4184b16144451018d7f6": {
      "model_module": "@jupyter-widgets/controls",
      "model_module_version": "1.5.0",
      "model_name": "ProgressStyleModel",
      "state": {
       "_model_module": "@jupyter-widgets/controls",
       "_model_module_version": "1.5.0",
       "_model_name": "ProgressStyleModel",
       "_view_count": null,
       "_view_module": "@jupyter-widgets/base",
       "_view_module_version": "1.2.0",
       "_view_name": "StyleView",
       "bar_color": null,
       "description_width": ""
      }
     },
     "9473d57109044239bb78ce97f4fd1eaf": {
      "model_module": "@jupyter-widgets/controls",
      "model_module_version": "1.5.0",
      "model_name": "FloatProgressModel",
      "state": {
       "_dom_classes": [],
       "_model_module": "@jupyter-widgets/controls",
       "_model_module_version": "1.5.0",
       "_model_name": "FloatProgressModel",
       "_view_count": null,
       "_view_module": "@jupyter-widgets/controls",
       "_view_module_version": "1.5.0",
       "_view_name": "ProgressView",
       "bar_style": "",
       "description": "",
       "description_tooltip": null,
       "layout": "IPY_MODEL_7c65857319164186b34be668e142768a",
       "max": 1.0,
       "min": 0.0,
       "orientation": "horizontal",
       "style": "IPY_MODEL_51607b01c2a14e63b78e47cc94489868",
       "value": 0.0
      }
     },
     "98dc17123c474cfb83164df4657b2e01": {
      "model_module": "@jupyter-widgets/controls",
      "model_module_version": "1.5.0",
      "model_name": "LabelModel",
      "state": {
       "_dom_classes": [],
       "_model_module": "@jupyter-widgets/controls",
       "_model_module_version": "1.5.0",
       "_model_name": "LabelModel",
       "_view_count": null,
       "_view_module": "@jupyter-widgets/controls",
       "_view_module_version": "1.5.0",
       "_view_name": "LabelView",
       "description": "",
       "description_tooltip": null,
       "layout": "IPY_MODEL_deb5419e55b1470daa8ccdd66336b375",
       "placeholder": "​",
       "style": "IPY_MODEL_0322818314be4cbeb5ee543e38e9b95d",
       "value": ""
      }
     },
     "aa3a4b0537294fb78e18f7f6070f1c59": {
      "model_module": "@jupyter-widgets/controls",
      "model_module_version": "1.5.0",
      "model_name": "LabelModel",
      "state": {
       "_dom_classes": [],
       "_model_module": "@jupyter-widgets/controls",
       "_model_module_version": "1.5.0",
       "_model_name": "LabelModel",
       "_view_count": null,
       "_view_module": "@jupyter-widgets/controls",
       "_view_module_version": "1.5.0",
       "_view_name": "LabelView",
       "description": "",
       "description_tooltip": null,
       "layout": "IPY_MODEL_d2c9e72e7d7045ca8cb42ecc80695d09",
       "placeholder": "​",
       "style": "IPY_MODEL_bb1812f6b1d5423ea86d9fc13bd3b67a",
       "value": ""
      }
     },
     "ba217ac488214b359bd622db8506fe7f": {
      "model_module": "@jupyter-widgets/controls",
      "model_module_version": "1.5.0",
      "model_name": "VBoxModel",
      "state": {
       "_dom_classes": [],
       "_model_module": "@jupyter-widgets/controls",
       "_model_module_version": "1.5.0",
       "_model_name": "VBoxModel",
       "_view_count": null,
       "_view_module": "@jupyter-widgets/controls",
       "_view_module_version": "1.5.0",
       "_view_name": "VBoxView",
       "box_style": "",
       "children": [
        "IPY_MODEL_98dc17123c474cfb83164df4657b2e01",
        "IPY_MODEL_7053e81ff1604f11b7b99ed5f0acc79b"
       ],
       "layout": "IPY_MODEL_bc43b9b0f1c6489eb99595f09c403dce"
      }
     },
     "bb1812f6b1d5423ea86d9fc13bd3b67a": {
      "model_module": "@jupyter-widgets/controls",
      "model_module_version": "1.5.0",
      "model_name": "DescriptionStyleModel",
      "state": {
       "_model_module": "@jupyter-widgets/controls",
       "_model_module_version": "1.5.0",
       "_model_name": "DescriptionStyleModel",
       "_view_count": null,
       "_view_module": "@jupyter-widgets/base",
       "_view_module_version": "1.2.0",
       "_view_name": "StyleView",
       "description_width": ""
      }
     },
     "bc43b9b0f1c6489eb99595f09c403dce": {
      "model_module": "@jupyter-widgets/base",
      "model_module_version": "1.2.0",
      "model_name": "LayoutModel",
      "state": {
       "_model_module": "@jupyter-widgets/base",
       "_model_module_version": "1.2.0",
       "_model_name": "LayoutModel",
       "_view_count": null,
       "_view_module": "@jupyter-widgets/base",
       "_view_module_version": "1.2.0",
       "_view_name": "LayoutView",
       "align_content": null,
       "align_items": null,
       "align_self": null,
       "border": null,
       "bottom": null,
       "display": null,
       "flex": null,
       "flex_flow": null,
       "grid_area": null,
       "grid_auto_columns": null,
       "grid_auto_flow": null,
       "grid_auto_rows": null,
       "grid_column": null,
       "grid_gap": null,
       "grid_row": null,
       "grid_template_areas": null,
       "grid_template_columns": null,
       "grid_template_rows": null,
       "height": null,
       "justify_content": null,
       "justify_items": null,
       "left": null,
       "margin": null,
       "max_height": null,
       "max_width": null,
       "min_height": null,
       "min_width": null,
       "object_fit": null,
       "object_position": null,
       "order": null,
       "overflow": null,
       "overflow_x": null,
       "overflow_y": null,
       "padding": null,
       "right": null,
       "top": null,
       "visibility": null,
       "width": null
      }
     },
     "ccfb5621e7864343854fc650ea001b23": {
      "model_module": "@jupyter-widgets/base",
      "model_module_version": "1.2.0",
      "model_name": "LayoutModel",
      "state": {
       "_model_module": "@jupyter-widgets/base",
       "_model_module_version": "1.2.0",
       "_model_name": "LayoutModel",
       "_view_count": null,
       "_view_module": "@jupyter-widgets/base",
       "_view_module_version": "1.2.0",
       "_view_name": "LayoutView",
       "align_content": null,
       "align_items": null,
       "align_self": null,
       "border": null,
       "bottom": null,
       "display": null,
       "flex": null,
       "flex_flow": null,
       "grid_area": null,
       "grid_auto_columns": null,
       "grid_auto_flow": null,
       "grid_auto_rows": null,
       "grid_column": null,
       "grid_gap": null,
       "grid_row": null,
       "grid_template_areas": null,
       "grid_template_columns": null,
       "grid_template_rows": null,
       "height": null,
       "justify_content": null,
       "justify_items": null,
       "left": null,
       "margin": null,
       "max_height": null,
       "max_width": null,
       "min_height": null,
       "min_width": null,
       "object_fit": null,
       "object_position": null,
       "order": null,
       "overflow": null,
       "overflow_x": null,
       "overflow_y": null,
       "padding": null,
       "right": null,
       "top": null,
       "visibility": null,
       "width": null
      }
     },
     "d2c9e72e7d7045ca8cb42ecc80695d09": {
      "model_module": "@jupyter-widgets/base",
      "model_module_version": "1.2.0",
      "model_name": "LayoutModel",
      "state": {
       "_model_module": "@jupyter-widgets/base",
       "_model_module_version": "1.2.0",
       "_model_name": "LayoutModel",
       "_view_count": null,
       "_view_module": "@jupyter-widgets/base",
       "_view_module_version": "1.2.0",
       "_view_name": "LayoutView",
       "align_content": null,
       "align_items": null,
       "align_self": null,
       "border": null,
       "bottom": null,
       "display": null,
       "flex": null,
       "flex_flow": null,
       "grid_area": null,
       "grid_auto_columns": null,
       "grid_auto_flow": null,
       "grid_auto_rows": null,
       "grid_column": null,
       "grid_gap": null,
       "grid_row": null,
       "grid_template_areas": null,
       "grid_template_columns": null,
       "grid_template_rows": null,
       "height": null,
       "justify_content": null,
       "justify_items": null,
       "left": null,
       "margin": null,
       "max_height": null,
       "max_width": null,
       "min_height": null,
       "min_width": null,
       "object_fit": null,
       "object_position": null,
       "order": null,
       "overflow": null,
       "overflow_x": null,
       "overflow_y": null,
       "padding": null,
       "right": null,
       "top": null,
       "visibility": null,
       "width": null
      }
     },
     "deb5419e55b1470daa8ccdd66336b375": {
      "model_module": "@jupyter-widgets/base",
      "model_module_version": "1.2.0",
      "model_name": "LayoutModel",
      "state": {
       "_model_module": "@jupyter-widgets/base",
       "_model_module_version": "1.2.0",
       "_model_name": "LayoutModel",
       "_view_count": null,
       "_view_module": "@jupyter-widgets/base",
       "_view_module_version": "1.2.0",
       "_view_name": "LayoutView",
       "align_content": null,
       "align_items": null,
       "align_self": null,
       "border": null,
       "bottom": null,
       "display": null,
       "flex": null,
       "flex_flow": null,
       "grid_area": null,
       "grid_auto_columns": null,
       "grid_auto_flow": null,
       "grid_auto_rows": null,
       "grid_column": null,
       "grid_gap": null,
       "grid_row": null,
       "grid_template_areas": null,
       "grid_template_columns": null,
       "grid_template_rows": null,
       "height": null,
       "justify_content": null,
       "justify_items": null,
       "left": null,
       "margin": null,
       "max_height": null,
       "max_width": null,
       "min_height": null,
       "min_width": null,
       "object_fit": null,
       "object_position": null,
       "order": null,
       "overflow": null,
       "overflow_x": null,
       "overflow_y": null,
       "padding": null,
       "right": null,
       "top": null,
       "visibility": null,
       "width": null
      }
     }
    },
    "version_major": 2,
    "version_minor": 0
   }
  }
 },
 "nbformat": 4,
 "nbformat_minor": 5
}
